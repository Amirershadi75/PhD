{
 "cells": [
  {
   "cell_type": "markdown",
   "metadata": {},
   "source": [
    "# Import libraries"
   ]
  },
  {
   "cell_type": "code",
   "execution_count": null,
   "metadata": {
    "hide_input": false,
    "id": "lsaAOAptsvRr",
    "scrolled": true,
    "tags": []
   },
   "outputs": [],
   "source": [
    "import pandas as pd\n",
    "import numpy as np\n",
    "from matplotlib.backends.backend_tkagg import (\n",
    "    FigureCanvasTkAgg, NavigationToolbar2Tk)\n",
    "import io\n",
    "import random\n",
    "import matplotlib.pyplot as plt\n",
    "from sklearn.gaussian_process import GaussianProcessClassifier\n",
    "from sklearn.ensemble import GradientBoostingRegressor\n",
    "from sklearn.ensemble import RandomForestRegressor, ExtraTreesRegressor, BaggingRegressor, AdaBoostRegressor\n",
    "from sklearn.linear_model import LassoCV, LassoLarsCV\n",
    "from sklearn.model_selection import GridSearchCV, RandomizedSearchCV\n",
    "from sklearn.linear_model import ARDRegression, BayesianRidge\n",
    "from sklearn.linear_model import GammaRegressor, PoissonRegressor\n",
    "from sklearn.linear_model import SGDRegressor, RidgeCV\n",
    "from sklearn.neural_network import MLPRegressor\n",
    "from sklearn.svm import SVR\n",
    "from sklearn.model_selection import cross_val_score, cross_validate, cross_val_predict\n",
    "from sklearn.feature_selection import SelectFromModel\n",
    "from sklearn.model_selection import KFold\n",
    "from sklearn.metrics import r2_score\n",
    "import seaborn as sns\n",
    "from numpy import mean\n",
    "from numpy import std\n",
    "from numpy import sum as arraysum\n",
    "from numpy import sqrt\n",
    "import plotly.graph_objects as go\n",
    "import plotly.express as px\n",
    "import scipy.stats as st\n",
    "from matplotlib import pyplot\n",
    "import pickle\n",
    "import warnings; warnings.simplefilter('ignore')\n",
    "from xgboost import XGBRegressor\n",
    "from jupyterthemes import get_themes\n",
    "import jupyterthemes as jt\n",
    "from jupyterthemes.stylefx import set_nb_theme\n",
    "\n",
    "#from google.colab import files\n",
    "#from google.colab import drive\n",
    "#drive.mount('/content/drive')"
   ]
  },
  {
   "cell_type": "markdown",
   "metadata": {
    "id": "7cozeIoEuySB"
   },
   "source": [
    "# Load database"
   ]
  },
  {
   "cell_type": "code",
   "execution_count": 2,
   "metadata": {
    "id": "0takwB_-u2VD"
   },
   "outputs": [],
   "source": [
    "##Output is the data extracted from database\n",
    "try:\n",
    "  Output=pd.read_excel (r'/Users/amir/Desktop/PhD/PhD/Data_new/Formatted/output.xlsx')\n",
    "except:  \n",
    "  drive.mount('/content/drive')\n",
    "  Output=pd.read_excel (r'/content/drive/My Drive/PhD/Data_new/Formatted/output.xlsx')\n",
    "##Material class in the database at this moment are 10 different material\n",
    "##Curently the material classes are ['BFA', 'Boden', 'EDS', 'GKOS', 'GRS', 'GS', 'HMVA', 'RC', 'SFA', 'SKA']\n",
    "material_class=eval('Output')['MaterialClass'].unique()\n",
    "material_class=np.delete(material_class, 0)\n",
    "material_class=list(material_class)\n",
    "##Currently we have 6 different test type in our database \n",
    "##['DIN19528', 'DIN19529', 'DIN19528EX', 'DIN38414-4', 'CEN/TS16637-3', 'FprEN14405']\n",
    "test_type=eval('Output')['Test_type'].unique()\n",
    "test_type=np.delete(test_type, 0)\n",
    "test_type=list(test_type)\n"
   ]
  },
  {
   "cell_type": "markdown",
   "metadata": {
    "id": "PQr8IS9o3s4c"
   },
   "source": [
    "# Data pre-processing"
   ]
  },
  {
   "cell_type": "code",
   "execution_count": 3,
   "metadata": {
    "id": "LQUSX2w93vkl"
   },
   "outputs": [],
   "source": [
    "Raw_data=Output\n",
    "data_back=Output\n",
    "#Replace None with nan\n",
    "data_back.iloc[2:, 5:7].replace(to_replace=[None], value=np.nan, inplace=True)\n",
    "modified_data=data_back.iloc[2:, 7:]\n",
    "#Replace none with zero\n",
    "modified_data.replace(to_replace=[None], value=float(0), inplace=True)\n"
   ]
  },
  {
   "cell_type": "code",
   "execution_count": 4,
   "metadata": {
    "id": "ELTLFOadq-1j"
   },
   "outputs": [],
   "source": [
    "#Annoying string eliminator\n",
    "\n",
    "filter_data = np.column_stack([modified_data[col].str.contains(r\"D\", na=False) for col in modified_data])\n",
    "filter_get=modified_data.loc[filter_data.any(axis=1)]\n",
    "index_filter=(filter_get.index)\n",
    "modified_data=modified_data.drop([index_filter[0]])\n",
    "\n",
    "filter_data = np.column_stack([modified_data[col].str.contains(r\"<\", na=False) for col in modified_data])\n",
    "find_filter=np.where(filter_data==True)\n",
    "for i in range (len(find_filter[0])):\n",
    "    modified_data.iat[find_filter[0][i], find_filter[1][i]]=0\n",
    "\n",
    "filter_data = np.column_stack([modified_data[col].str.contains(r\"-\", na=False) for col in modified_data])\n",
    "find_filter=np.where(filter_data==True)\n",
    "for i in range (len(find_filter[0])):\n",
    "    modified_data.iat[find_filter[0][i], find_filter[1][i]]=(random.uniform(0, abs(float(modified_data.iat[find_filter[0][i], find_filter[1][i]]) )))\n",
    "\n",
    "filter_data = np.column_stack([modified_data[col].str.contains(r\"kA\", na=False) for col in modified_data])\n",
    "find_filter=np.where(filter_data==True)\n",
    "for i in range (len(find_filter[0])):\n",
    "      modified_data.iat[find_filter[0][i], find_filter[1][i]]=0  \n",
    "\n",
    "filter_data = np.column_stack([modified_data[col].str.contains(r\",\", na=False) for col in modified_data])\n",
    "find_filter=np.where(filter_data==True)\n",
    "for i in range (len(find_filter[0])):\n",
    "      modified_data.iat[find_filter[0][i], find_filter[1][i]]=modified_data.iat[find_filter[0][i], find_filter[1][i]].replace(',','.')\n",
    "\n",
    "filter_data = np.column_stack([modified_data[col].str.contains(r\".\", na=False) for col in modified_data])\n",
    "find_filter=np.where(filter_data==True)\n",
    "for i in range (len(find_filter[0])):\n",
    "    modified_data.iat[find_filter[0][i], find_filter[1][i]]=modified_data.iat[find_filter[0][i], find_filter[1][i]].replace('..','.') \n",
    "\n",
    "filter_data = np.column_stack([modified_data[col].str.contains(r\"n.\", na=False) for col in modified_data])\n",
    "find_filter=np.where(filter_data==True)\n",
    "for i in range (len(find_filter[0])):\n",
    "    modified_data.iat[find_filter[0][i], find_filter[1][i]]=0  \n",
    "\n",
    "modified_data = modified_data.astype(float) \n",
    "modified_data=modified_data.drop(columns=['PAK','KW_Index','Bromacil_Eluate'])\n"
   ]
  },
  {
   "cell_type": "code",
   "execution_count": 5,
   "metadata": {
    "id": "DaQ3ICQHr9mR"
   },
   "outputs": [],
   "source": [
    "col=modified_data.columns\n",
    "for j in range (len(col)):\n",
    "    lim=float(Raw_data[col[j]].iloc[1])\n",
    "    if np.isnan(lim)==True:\n",
    "        find_filter=modified_data[col[j]].loc[modified_data[col[j]]==0].index\n",
    "        f=modified_data[col[j]][2:]\n",
    "        ff=f.sort_values( ascending=True).unique()\n",
    "        lim=ff[1]\n",
    "        for i in range (len(find_filter)):\n",
    "            modified_data[col[j]].loc[[find_filter[i]]]=(random.uniform(0, lim)) \n",
    "    else:\n",
    "            find_filter=modified_data[col[j]].loc[modified_data[col[j]]==0].index\n",
    "            \n",
    "            for i in range (len(find_filter)):\n",
    "                modified_data[col[j]].loc[[find_filter[i]]]=(random.uniform(0, lim))   \n",
    "                \n",
    "                \n",
    "    col=modified_data.columns\n",
    "    for j in range (len(col)):\n",
    "        lim=float(Raw_data[col[j]].iloc[1])\n",
    "        find_filter=modified_data[col[j]].loc[modified_data[col[j]]<=0].index\n",
    "        \n",
    "        for i in range (len(find_filter)):\n",
    "            modified_data[col[j]].loc[[find_filter[i]]]=(random.uniform(0, lim))   "
   ]
  },
  {
   "cell_type": "code",
   "execution_count": 6,
   "metadata": {
    "id": "h4TB96q5sFPN"
   },
   "outputs": [],
   "source": [
    "machine_data=modified_data\n",
    "modified_data.insert(0,'ID', Output['ID'])\n",
    "\n",
    "modified_data.insert(1,'Column_1', Output['Column_1'])\n",
    "\n",
    "modified_data.insert(2,'Probe', Output['Probe'])\n",
    "\n",
    "modified_data.insert(3,'ClearName', Output['ClearName'])\n",
    "\n",
    "modified_data.insert(4,'LS', Output['LS'])\n",
    "\n",
    "modified_data.insert(5,'Test_type', Output['Test_type'])\n",
    "\n",
    "modified_data.insert(6,'MaterialClass', Output['MaterialClass'])\n",
    "\n",
    "modified_data = modified_data.append(Output[Output['ID'] == 0])\n",
    "\n",
    "modified_data = modified_data.append(Output[Output['ID'] == 1])\n",
    "\n",
    "modified_data = modified_data.sort_index()\n",
    "data_back=machine_data.loc[machine_data['Column_1']=='BG' ]\n",
    "for i in range (len(data_back)):\n",
    "    machine_data=machine_data.drop([data_back.index[i]])\n",
    "\n",
    "machine_data=machine_data.drop(columns=['Column_1','ClearName','ID'])\n"
   ]
  },
  {
   "cell_type": "code",
   "execution_count": 7,
   "metadata": {
    "id": "oufSlKgssdKM"
   },
   "outputs": [],
   "source": [
    "##Convert test type to integer\n",
    "\n",
    "machine_data=machine_data.replace(to_replace=r'^DIN19528EX', value=3, regex=True)\n",
    "\n",
    "machine_data=machine_data.replace(to_replace=r'^DIN19528', value=1, regex=True)\n",
    "\n",
    "machine_data=machine_data.replace(to_replace=r'^DIN19529', value=2, regex=True)\n",
    "\n",
    "machine_data=machine_data.replace(to_replace=r'^DIN38414-4', value=4, regex=True)\n",
    "\n",
    "machine_data=machine_data.replace(to_replace=r'^CEN/TS16637-3', value=5, regex=True)\n",
    "\n",
    "machine_data=machine_data.replace(to_replace=r'^FprEN14405', value=6, regex=True)\n"
   ]
  },
  {
   "cell_type": "code",
   "execution_count": 8,
   "metadata": {
    "id": "cliFfgoosjYg"
   },
   "outputs": [],
   "source": [
    "##Convert material class to integer\n",
    "\n",
    "for i in range (len(material_class)):\n",
    "  machine_data['MaterialClass']=machine_data['MaterialClass'].replace(to_replace=material_class[i], value=i+1, regex=True)\n",
    "\n",
    "machine_data=machine_data.replace(to_replace=np.nan, value=0, regex=True)"
   ]
  },
  {
   "cell_type": "markdown",
   "metadata": {},
   "source": [
    "#  New datasets"
   ]
  },
  {
   "cell_type": "code",
   "execution_count": null,
   "metadata": {},
   "outputs": [],
   "source": []
  },
  {
   "cell_type": "markdown",
   "metadata": {
    "id": "ycFzCIXrmg4x"
   },
   "source": [
    "# Initialize the training and test sets"
   ]
  },
  {
   "cell_type": "code",
   "execution_count": 9,
   "metadata": {
    "id": "k6mYgjRzmlWe"
   },
   "outputs": [],
   "source": [
    "##Loading the training and test dataset\n",
    "try:\n",
    "  X_train=pd.read_excel (r'/Users/amir/Desktop/PhD/Data_new/Formatted/X_train10.xlsx')\n",
    "  X_test=pd.read_excel (r'/Users/amir/Desktop/PhD/Data_new/Formatted/X_test10.xlsx')\n",
    "  y_train=pd.read_excel (r'/Users/amir/Desktop/PhD/Data_new/Formatted/y_train10.xlsx')\n",
    "  y_test=pd.read_excel (r'/Users/amir/Desktop/PhD/Data_new/Formatted/y_test10.xlsx')\n",
    "  \n",
    "except:\n",
    "  X_train=pd.read_excel (r'/Users/amir/Desktop/PhD/PhD/Data_new/Formatted/X_train10.xlsx')\n",
    "  X_test=pd.read_excel (r'/Users/amir/Desktop/PhD/PhD/Data_new/Formatted/X_test10.xlsx')\n",
    "  y_train=pd.read_excel (r'/Users/amir/Desktop/PhD/PhD/Data_new/Formatted/y_train10.xlsx')\n",
    "  y_test=pd.read_excel (r'/Users/amir/Desktop/PhD/PhD/Data_new/Formatted/y_test10.xlsx')\n",
    "    \n",
    "#X_train.to_excel(\"X_train1.xlsx\");X_test.to_excel(\"X_test1.xlsx\");y_train.to_excel(\"y_train1.xlsx\");y_test.to_excel(\"y_test1.xlsx\")\n",
    "\n"
   ]
  },
  {
   "cell_type": "markdown",
   "metadata": {},
   "source": [
    "# Scenario 1 (all materials and all test types)"
   ]
  },
  {
   "cell_type": "code",
   "execution_count": null,
   "metadata": {
    "id": "mDyZP8iAm0zT"
   },
   "outputs": [],
   "source": [
    "##Remove all column or components which contains sum like sum PAK, since sometimes\n",
    "##The concentration of related components are not available and we can't use the random value\n",
    "##Instead of unknown value\n",
    "try:\n",
    "    sumcomp = [col for col in X_train.columns if 'Sum' in col]\n",
    "\n",
    "    for i in range (len(sumcomp)):\n",
    "        X_train=X_train.drop([sumcomp[i]], axis=1)\n",
    "        X_test=X_test.drop([sumcomp[i]], axis=1)\n",
    "        y_test=y_test.drop([sumcomp[i]], axis=1)\n",
    "    X_train.rename(columns={'Unnamed: 0': 'Index'}, inplace=True)\n",
    "    X_train=X_train.set_index('Index')\n",
    "    X_test.rename(columns={'Unnamed: 0': 'Index'}, inplace=True)\n",
    "    X_test=X_test.set_index('Index')\n",
    "    y_train.rename(columns={'Unnamed: 0': 'Index'}, inplace=True)\n",
    "    y_train=y_train.set_index('Index')\n",
    "    y_test.rename(columns={'Unnamed: 0': 'Index'}, inplace=True)\n",
    "    y_test=y_test.set_index('Index')\n",
    "    X_train=X_train.drop(columns=['Probe'])\n",
    "    X_test=X_test.drop(columns=['Probe'])\n",
    "    y_test=y_test.drop(columns=['Probe'])\n",
    "    X_test=(X_test.astype(float))\n",
    "    X_train=(X_train.astype(float))\n",
    "    y_test=(y_test.astype(float))\n",
    "\n",
    "    X_train_back=X_train\n",
    "    y_train_back=y_train\n",
    "    y_test_back=y_test\n",
    "    X_test_back=X_test\n",
    "except:\n",
    "    pass\n",
    "    \n",
    "\n",
    "####### Get rid of annoying columns and strings\n",
    "\n",
    "#######Convert the dataset to float\n",
    "\n",
    "\n",
    "a=X_train_back.columns\n",
    "a=pd.DataFrame(a)\n",
    "b=a.loc[a[0]=='pH_y'].index\n",
    "aa=a[b[0]:]\n",
    "a=X_train_back.columns\n",
    "aa=a[b[0]:]\n",
    "\n",
    "#y_train=X_train[a[first:second]]\n",
    "#y_test=y_test[a[first:second]]\n",
    "XX_train=X_train_back.drop(columns=aa)\n",
    "XX_test=X_test_back.drop(columns=aa)\n",
    "\n",
    "\n",
    "##Find the related column which our target components are starting\n",
    "##It means we will seprate the all chemical components results from short term test\n",
    "##and the LS, material class and test type of the long term test in the training set\n",
    "##Training set=(all info from short term test+ LS,material class,test type (long term test))\n",
    "##we need to predict the rest of information for long term test, but one by one\n",
    "\n",
    "##Define the specific chemical components in order to predict\n",
    "component = input(\"Enter your considered chemical component: (Start with capital letter)\\n'But --pH-- is written like that'\\n \")\n",
    "\n",
    "try:\n",
    "    filter_data = np.column_stack(a[XX_train.shape[1]:].str.contains(str(component), na=False) for col in a[XX_train.shape[1]:])\n",
    "except:\n",
    "    pass\n",
    "filter_data=pd.DataFrame(filter_data)\n",
    "component_index= filter_data.loc[filter_data[0]==True].index[0]\n",
    "\n",
    "first=component_index+XX_train.shape[1]\n",
    "second=first+1\n",
    "\n",
    "X_train=X_train_back\n",
    "y_train=y_train_back\n",
    "y_test=y_test_back\n",
    "X_test=X_test_back    \n",
    "y_train=X_train[a[first:second]]\n",
    "y_test=y_test[a[first:second]]\n",
    "X_train=X_train.drop(columns=aa)\n",
    "X_test=X_test.drop(columns=aa)\n"
   ]
  },
  {
   "cell_type": "markdown",
   "metadata": {},
   "source": [
    "# Scenario 2 (all extended test type)"
   ]
  },
  {
   "cell_type": "code",
   "execution_count": null,
   "metadata": {},
   "outputs": [],
   "source": [
    "##Remove all column or components which contains sum like sum PAK, since sometimes\n",
    "##The concentration of related components are not available and we can't use the random value\n",
    "##Instead of unknown value\n",
    "try:\n",
    "    sumcomp = [col for col in X_train.columns if 'Sum' in col]\n",
    "\n",
    "    for i in range (len(sumcomp)):\n",
    "        X_train=X_train.drop([sumcomp[i]], axis=1)\n",
    "        X_test=X_test.drop([sumcomp[i]], axis=1)\n",
    "        y_test=y_test.drop([sumcomp[i]], axis=1)\n",
    "    X_train.rename(columns={'Unnamed: 0': 'Index'}, inplace=True)\n",
    "    X_train=X_train.set_index('Index')\n",
    "    X_test.rename(columns={'Unnamed: 0': 'Index'}, inplace=True)\n",
    "    X_test=X_test.set_index('Index')\n",
    "    y_train.rename(columns={'Unnamed: 0': 'Index'}, inplace=True)\n",
    "    y_train=y_train.set_index('Index')\n",
    "    y_test.rename(columns={'Unnamed: 0': 'Index'}, inplace=True)\n",
    "    y_test=y_test.set_index('Index')\n",
    "    X_train=X_train.drop(columns=['Probe'])\n",
    "    X_test=X_test.drop(columns=['Probe'])\n",
    "    y_test=y_test.drop(columns=['Probe'])\n",
    "    X_test=(X_test.astype(float))\n",
    "    X_train=(X_train.astype(float))\n",
    "    y_test=(y_test.astype(float))\n",
    "\n",
    "    X_train_back=X_train\n",
    "    y_train_back=y_train\n",
    "    y_test_back=y_test\n",
    "    X_test_back=X_test\n",
    "except:\n",
    "    pass\n",
    "    \n",
    "\n",
    "####### Get rid of annoying columns and strings\n",
    "\n",
    "#######Convert the dataset to float\n",
    "\n",
    "a=X_train_back.columns\n",
    "a=pd.DataFrame(a)\n",
    "b=a.loc[a[0]=='pH_y'].index\n",
    "aa=a[b[0]:]\n",
    "a=X_train_back.columns\n",
    "aa=a[b[0]:]\n",
    "\n",
    "XX_train=X_train_back.drop(columns=aa)\n",
    "XX_test=X_test_back.drop(columns=aa)\n",
    "\n",
    "\n",
    "##Find the related column which our target components are starting\n",
    "##It means we will seprate the all chemical components results from short term test\n",
    "##and the LS, material class and test type of the long term test in the training set\n",
    "##Training set=(all info from short term test+ LS,material class,test type (long term test))\n",
    "##we need to predict the rest of information for long term test, but one by one\n",
    "\n",
    "##Define the specific chemical components in order to predict\n",
    "component = input(\"Enter your considered chemical component: (Start with capital letter)\\n'But --pH-- is written like that'\\n \")\n",
    "\n",
    "try:\n",
    "    filter_data = np.column_stack(a[XX_train.shape[1]:].str.contains(str(component), na=False) for col in a[XX_train.shape[1]:])\n",
    "except:\n",
    "    pass\n",
    "filter_data=pd.DataFrame(filter_data)\n",
    "component_index= filter_data.loc[filter_data[0]==True].index[0]\n",
    "\n",
    "first=component_index+XX_train.shape[1]\n",
    "second=first+1\n",
    "\n",
    "X_train=X_train_back\n",
    "y_train=y_train_back\n",
    "y_test=y_test_back\n",
    "X_test=X_test_back    \n",
    "y_train=X_train[a[first:second]]\n",
    "y_test=y_test[a[first:second]]\n",
    "X_train=X_train.drop(columns=aa)\n",
    "X_test=X_test.drop(columns=aa)\n",
    "\n",
    "\n",
    "a=X_train[(X_train['encoder__x0_DIN19528EX_x'] == 1) | (X_train['encoder__x0_FprEN14405_x'] == 1)| (X_train['encoder__x0_CEN/TS16637-3_x'] == 1)].index\n",
    "X_train=X_train.loc[a]\n",
    "y_train=y_train.loc[a]\n",
    "\n",
    "a=X_train[(X_train['encoder__x0_DIN19528EX_y'] == 1) | (X_train['encoder__x0_FprEN14405_y'] == 1)| (X_train['encoder__x0_CEN/TS16637-3_y'] == 1)].index\n",
    "X_train=X_train.loc[a]\n",
    "y_train=y_train.loc[a]\n",
    "\n",
    "b=X_test[(X_test['encoder__x0_DIN19528EX_x'] == 1) | (X_test['encoder__x0_FprEN14405_x'] == 1)| (X_test['encoder__x0_CEN/TS16637-3_x'] == 1)].index\n",
    "X_test=X_test.loc[b]\n",
    "y_test=y_test.loc[b]\n",
    "\n",
    "b=X_test[(X_test['encoder__x0_DIN19528EX_y'] == 1) | (X_test['encoder__x0_FprEN14405_y'] == 1)| (X_test['encoder__x0_CEN/TS16637-3_y'] == 1)].index\n",
    "X_test=X_test.loc[b]\n",
    "y_test=y_test.loc[b]\n",
    "\n",
    "# a=X_train[(X_train['encoder__x0_DIN19528EX_x'] == 1) | (X_train['encoder__x0_FprEN14405_x'] == 1)].index\n",
    "# X_train=X_train.loc[a]\n",
    "# y_train=y_train.loc[a]\n",
    "\n",
    "# a=X_train[(X_train['encoder__x0_DIN19528EX_y'] == 1) | (X_train['encoder__x0_FprEN14405_y'] == 1)].index\n",
    "# X_train=X_train.loc[a]\n",
    "# y_train=y_train.loc[a]\n",
    "\n",
    "# b=X_test[(X_test['encoder__x0_DIN19528EX_x'] == 1) | (X_test['encoder__x0_FprEN14405_x'] == 1)].index\n",
    "# X_test=X_test.loc[b]\n",
    "# y_test=y_test.loc[b]\n",
    "\n",
    "# b=X_test[(X_test['encoder__x0_DIN19528EX_y'] == 1) | (X_test['encoder__x0_FprEN14405_y'] == 1)].index\n",
    "# X_test=X_test.loc[b]\n",
    "# y_test=y_test.loc[b]\n",
    "# aa=np.array(X_trainencoder__x0_BFA__x0_CEN/TS16637-3_x']==1)\n",
    "# print(aa)\n",
    "# bb=np.where(aa==True)\n",
    "# print(np.shape(bb))"
   ]
  },
  {
   "cell_type": "markdown",
   "metadata": {},
   "source": [
    "# Scenario 3 (all materials contains DIN19528EX)"
   ]
  },
  {
   "cell_type": "code",
   "execution_count": null,
   "metadata": {},
   "outputs": [],
   "source": [
    "##Remove all column or components which contains sum like sum PAK, since sometimes\n",
    "##The concentration of related components are not available and we can't use the random value\n",
    "##Instead of unknown value\n",
    "try:\n",
    "    sumcomp = [col for col in X_train.columns if 'Sum' in col]\n",
    "\n",
    "    for i in range (len(sumcomp)):\n",
    "        X_train=X_train.drop([sumcomp[i]], axis=1)\n",
    "        X_test=X_test.drop([sumcomp[i]], axis=1)\n",
    "        y_test=y_test.drop([sumcomp[i]], axis=1)\n",
    "    X_train.rename(columns={'Unnamed: 0': 'Index'}, inplace=True)\n",
    "    X_train=X_train.set_index('Index')\n",
    "    X_test.rename(columns={'Unnamed: 0': 'Index'}, inplace=True)\n",
    "    X_test=X_test.set_index('Index')\n",
    "    y_train.rename(columns={'Unnamed: 0': 'Index'}, inplace=True)\n",
    "    y_train=y_train.set_index('Index')\n",
    "    y_test.rename(columns={'Unnamed: 0': 'Index'}, inplace=True)\n",
    "    y_test=y_test.set_index('Index')\n",
    "    X_train=X_train.drop(columns=['Probe'])\n",
    "    X_test=X_test.drop(columns=['Probe'])\n",
    "    y_test=y_test.drop(columns=['Probe'])\n",
    "    X_test=(X_test.astype(float))\n",
    "    X_train=(X_train.astype(float))\n",
    "    y_test=(y_test.astype(float))\n",
    "\n",
    "    X_train_back=X_train\n",
    "    y_train_back=y_train\n",
    "    y_test_back=y_test\n",
    "    X_test_back=X_test\n",
    "except:\n",
    "    pass\n",
    "    \n",
    "\n",
    "####### Get rid of annoying columns and strings\n",
    "\n",
    "#######Convert the dataset to float\n",
    "\n",
    "a=X_train_back.columns\n",
    "a=pd.DataFrame(a)\n",
    "b=a.loc[a[0]=='pH_y'].index\n",
    "aa=a[b[0]:]\n",
    "a=X_train_back.columns\n",
    "aa=a[b[0]:]\n",
    "\n",
    "XX_train=X_train_back.drop(columns=aa)\n",
    "XX_test=X_test_back.drop(columns=aa)\n",
    "\n",
    "\n",
    "##Find the related column which our target components are starting\n",
    "##It means we will seprate the all chemical components results from short term test\n",
    "##and the LS, material class and test type of the long term test in the training set\n",
    "##Training set=(all info from short term test+ LS,material class,test type (long term test))\n",
    "##we need to predict the rest of information for long term test, but one by one\n",
    "\n",
    "##Define the specific chemical components in order to predict\n",
    "component = input(\"Enter your considered chemical component: (Start with capital letter)\\n'But --pH-- is written like that'\\n \")\n",
    "\n",
    "try:\n",
    "    filter_data = np.column_stack(a[XX_train.shape[1]:].str.contains(str(component), na=False) for col in a[XX_train.shape[1]:])\n",
    "except:\n",
    "    pass\n",
    "filter_data=pd.DataFrame(filter_data)\n",
    "component_index= filter_data.loc[filter_data[0]==True].index[0]\n",
    "\n",
    "first=component_index+XX_train.shape[1]\n",
    "second=first+1\n",
    "\n",
    "X_train=X_train_back\n",
    "y_train=y_train_back\n",
    "y_test=y_test_back\n",
    "X_test=X_test_back    \n",
    "y_train=X_train[a[first:second]]\n",
    "y_test=y_test[a[first:second]]\n",
    "X_train=X_train.drop(columns=aa)\n",
    "X_test=X_test.drop(columns=aa)\n",
    "\n",
    "\n",
    "a=X_train[(X_train['encoder__x0_DIN19528EX_x'] == 1)].index\n",
    "X_train=X_train.loc[a]\n",
    "y_train=y_train.loc[a]\n",
    "\n",
    "a=X_train[(X_train['encoder__x0_DIN19528EX_y'] == 1)].index\n",
    "X_train=X_train.loc[a]\n",
    "y_train=y_train.loc[a]\n",
    "\n",
    "b=X_test[(X_test['encoder__x0_DIN19528EX_x'] == 1)].index\n",
    "X_test=X_test.loc[b]\n",
    "y_test=y_test.loc[b]\n",
    "\n",
    "b=X_test[(X_test['encoder__x0_DIN19528EX_y'] == 1)].index\n",
    "X_test=X_test.loc[b]\n",
    "y_test=y_test.loc[b]"
   ]
  },
  {
   "cell_type": "markdown",
   "metadata": {},
   "source": [
    "# Scenario 4 (all materials contains FprEN14405)"
   ]
  },
  {
   "cell_type": "code",
   "execution_count": null,
   "metadata": {},
   "outputs": [],
   "source": [
    "##Remove all column or components which contains sum like sum PAK, since sometimes\n",
    "##The concentration of related components are not available and we can't use the random value\n",
    "##Instead of unknown value\n",
    "try:\n",
    "    sumcomp = [col for col in X_train.columns if 'Sum' in col]\n",
    "\n",
    "    for i in range (len(sumcomp)):\n",
    "        X_train=X_train.drop([sumcomp[i]], axis=1)\n",
    "        X_test=X_test.drop([sumcomp[i]], axis=1)\n",
    "        y_test=y_test.drop([sumcomp[i]], axis=1)\n",
    "    X_train.rename(columns={'Unnamed: 0': 'Index'}, inplace=True)\n",
    "    X_train=X_train.set_index('Index')\n",
    "    X_test.rename(columns={'Unnamed: 0': 'Index'}, inplace=True)\n",
    "    X_test=X_test.set_index('Index')\n",
    "    y_train.rename(columns={'Unnamed: 0': 'Index'}, inplace=True)\n",
    "    y_train=y_train.set_index('Index')\n",
    "    y_test.rename(columns={'Unnamed: 0': 'Index'}, inplace=True)\n",
    "    y_test=y_test.set_index('Index')\n",
    "    X_train=X_train.drop(columns=['Probe'])\n",
    "    X_test=X_test.drop(columns=['Probe'])\n",
    "    y_test=y_test.drop(columns=['Probe'])\n",
    "    X_test=(X_test.astype(float))\n",
    "    X_train=(X_train.astype(float))\n",
    "    y_test=(y_test.astype(float))\n",
    "\n",
    "    X_train_back=X_train\n",
    "    y_train_back=y_train\n",
    "    y_test_back=y_test\n",
    "    X_test_back=X_test\n",
    "except:\n",
    "    pass\n",
    "    \n",
    "\n",
    "####### Get rid of annoying columns and strings\n",
    "\n",
    "#######Convert the dataset to float\n",
    "\n",
    "a=X_train_back.columns\n",
    "a=pd.DataFrame(a)\n",
    "b=a.loc[a[0]=='pH_y'].index\n",
    "aa=a[b[0]:]\n",
    "a=X_train_back.columns\n",
    "aa=a[b[0]:]\n",
    "\n",
    "XX_train=X_train_back.drop(columns=aa)\n",
    "XX_test=X_test_back.drop(columns=aa)\n",
    "\n",
    "\n",
    "##Find the related column which our target components are starting\n",
    "##It means we will seprate the all chemical components results from short term test\n",
    "##and the LS, material class and test type of the long term test in the training set\n",
    "##Training set=(all info from short term test+ LS,material class,test type (long term test))\n",
    "##we need to predict the rest of information for long term test, but one by one\n",
    "\n",
    "##Define the specific chemical components in order to predict\n",
    "component = input(\"Enter your considered chemical component: (Start with capital letter)\\n'But --pH-- is written like that'\\n \")\n",
    "\n",
    "try:\n",
    "    filter_data = np.column_stack(a[XX_train.shape[1]:].str.contains(str(component), na=False) for col in a[XX_train.shape[1]:])\n",
    "except:\n",
    "    pass\n",
    "filter_data=pd.DataFrame(filter_data)\n",
    "component_index= filter_data.loc[filter_data[0]==True].index[0]\n",
    "\n",
    "first=component_index+XX_train.shape[1]\n",
    "second=first+1\n",
    "\n",
    "X_train=X_train_back\n",
    "y_train=y_train_back\n",
    "y_test=y_test_back\n",
    "X_test=X_test_back    \n",
    "y_train=X_train[a[first:second]]\n",
    "y_test=y_test[a[first:second]]\n",
    "X_train=X_train.drop(columns=aa)\n",
    "X_test=X_test.drop(columns=aa)\n",
    "\n",
    "\n",
    "a=X_train[(X_train['encoder__x0_FprEN14405_x'] == 1)].index\n",
    "X_train=X_train.loc[a]\n",
    "y_train=y_train.loc[a]\n",
    "\n",
    "a=X_train[(X_train['encoder__x0_FprEN14405_y'] == 1)].index\n",
    "X_train=X_train.loc[a]\n",
    "y_train=y_train.loc[a]\n",
    "\n",
    "b=X_test[(X_test['encoder__x0_FprEN14405_x'] == 1)].index\n",
    "X_test=X_test.loc[b]\n",
    "y_test=y_test.loc[b]\n",
    "\n",
    "b=X_test[(X_test['encoder__x0_FprEN14405_y'] == 1)].index\n",
    "X_test=X_test.loc[b]\n",
    "y_test=y_test.loc[b]"
   ]
  },
  {
   "cell_type": "markdown",
   "metadata": {},
   "source": [
    "# Scenario 5 (all materials contains CEN/TS16637-3)"
   ]
  },
  {
   "cell_type": "code",
   "execution_count": null,
   "metadata": {},
   "outputs": [],
   "source": [
    "##Remove all column or components which contains sum like sum PAK, since sometimes\n",
    "##The concentration of related components are not available and we can't use the random value\n",
    "##Instead of unknown value\n",
    "try:\n",
    "    sumcomp = [col for col in X_train.columns if 'Sum' in col]\n",
    "\n",
    "    for i in range (len(sumcomp)):\n",
    "        X_train=X_train.drop([sumcomp[i]], axis=1)\n",
    "        X_test=X_test.drop([sumcomp[i]], axis=1)\n",
    "        y_test=y_test.drop([sumcomp[i]], axis=1)\n",
    "    X_train.rename(columns={'Unnamed: 0': 'Index'}, inplace=True)\n",
    "    X_train=X_train.set_index('Index')\n",
    "    X_test.rename(columns={'Unnamed: 0': 'Index'}, inplace=True)\n",
    "    X_test=X_test.set_index('Index')\n",
    "    y_train.rename(columns={'Unnamed: 0': 'Index'}, inplace=True)\n",
    "    y_train=y_train.set_index('Index')\n",
    "    y_test.rename(columns={'Unnamed: 0': 'Index'}, inplace=True)\n",
    "    y_test=y_test.set_index('Index')\n",
    "    X_train=X_train.drop(columns=['Probe'])\n",
    "    X_test=X_test.drop(columns=['Probe'])\n",
    "    y_test=y_test.drop(columns=['Probe'])\n",
    "    X_test=(X_test.astype(float))\n",
    "    X_train=(X_train.astype(float))\n",
    "    y_test=(y_test.astype(float))\n",
    "\n",
    "    X_train_back=X_train\n",
    "    y_train_back=y_train\n",
    "    y_test_back=y_test\n",
    "    X_test_back=X_test\n",
    "except:\n",
    "    pass\n",
    "    \n",
    "\n",
    "####### Get rid of annoying columns and strings\n",
    "\n",
    "#######Convert the dataset to float\n",
    "\n",
    "a=X_train_back.columns\n",
    "a=pd.DataFrame(a)\n",
    "b=a.loc[a[0]=='pH_y'].index\n",
    "aa=a[b[0]:]\n",
    "a=X_train_back.columns\n",
    "aa=a[b[0]:]\n",
    "\n",
    "XX_train=X_train_back.drop(columns=aa)\n",
    "XX_test=X_test_back.drop(columns=aa)\n",
    "\n",
    "\n",
    "##Find the related column which our target components are starting\n",
    "##It means we will seprate the all chemical components results from short term test\n",
    "##and the LS, material class and test type of the long term test in the training set\n",
    "##Training set=(all info from short term test+ LS,material class,test type (long term test))\n",
    "##we need to predict the rest of information for long term test, but one by one\n",
    "\n",
    "##Define the specific chemical components in order to predict\n",
    "component = input(\"Enter your considered chemical component: (Start with capital letter)\\n'But --pH-- is written like that'\\n \")\n",
    "\n",
    "try:\n",
    "    filter_data = np.column_stack(a[XX_train.shape[1]:].str.contains(str(component), na=False) for col in a[XX_train.shape[1]:])\n",
    "except:\n",
    "    pass\n",
    "filter_data=pd.DataFrame(filter_data)\n",
    "component_index= filter_data.loc[filter_data[0]==True].index[0]\n",
    "\n",
    "first=component_index+XX_train.shape[1]\n",
    "second=first+1\n",
    "\n",
    "X_train=X_train_back\n",
    "y_train=y_train_back\n",
    "y_test=y_test_back\n",
    "X_test=X_test_back    \n",
    "y_train=X_train[a[first:second]]\n",
    "y_test=y_test[a[first:second]]\n",
    "X_train=X_train.drop(columns=aa)\n",
    "X_test=X_test.drop(columns=aa)\n",
    "\n",
    "\n",
    "a=X_train[(X_train['encoder__x0_CEN/TS16637-3_x'] == 1)].index\n",
    "X_train=X_train.loc[a]\n",
    "y_train=y_train.loc[a]\n",
    "\n",
    "a=X_train[(X_train['encoder__x0_CEN/TS16637-3_y'] == 1)].index\n",
    "X_train=X_train.loc[a]\n",
    "y_train=y_train.loc[a]\n",
    "\n",
    "b=X_test[(X_test['encoder__x0_CEN/TS16637-3_x'] == 1)].index\n",
    "X_test=X_test.loc[b]\n",
    "y_test=y_test.loc[b]\n",
    "\n",
    "b=X_test[(X_test['encoder__x0_CEN/TS16637-3_y'] == 1)].index\n",
    "X_test=X_test.loc[b]\n",
    "y_test=y_test.loc[b]"
   ]
  },
  {
   "cell_type": "markdown",
   "metadata": {},
   "source": [
    "# Scenario 6 (RC and all test types)"
   ]
  },
  {
   "cell_type": "code",
   "execution_count": 122,
   "metadata": {},
   "outputs": [
    {
     "name": "stdout",
     "output_type": "stream",
     "text": [
      "Enter your considered chemical component: (Start with capital letter)\n",
      "'But --pH-- is written like that'\n",
      " Sili\n"
     ]
    }
   ],
   "source": [
    "##Remove all column or components which contains sum like sum PAK, since sometimes\n",
    "##The concentration of related components are not available and we can't use the random value\n",
    "##Instead of unknown value\n",
    "try:\n",
    "    sumcomp = [col for col in X_train.columns if 'Sum' in col]\n",
    "\n",
    "    for i in range (len(sumcomp)):\n",
    "        X_train=X_train.drop([sumcomp[i]], axis=1)\n",
    "        X_test=X_test.drop([sumcomp[i]], axis=1)\n",
    "        y_test=y_test.drop([sumcomp[i]], axis=1)\n",
    "    X_train.rename(columns={'Unnamed: 0': 'Index'}, inplace=True)\n",
    "    X_train=X_train.set_index('Index')\n",
    "    X_test.rename(columns={'Unnamed: 0': 'Index'}, inplace=True)\n",
    "    X_test=X_test.set_index('Index')\n",
    "    y_train.rename(columns={'Unnamed: 0': 'Index'}, inplace=True)\n",
    "    y_train=y_train.set_index('Index')\n",
    "    y_test.rename(columns={'Unnamed: 0': 'Index'}, inplace=True)\n",
    "    y_test=y_test.set_index('Index')\n",
    "    X_train=X_train.drop(columns=['Probe'])\n",
    "    X_test=X_test.drop(columns=['Probe'])\n",
    "    y_test=y_test.drop(columns=['Probe'])\n",
    "    X_test=(X_test.astype(float))\n",
    "    X_train=(X_train.astype(float))\n",
    "    y_test=(y_test.astype(float))\n",
    "\n",
    "    X_train_back=X_train\n",
    "    y_train_back=y_train\n",
    "    y_test_back=y_test\n",
    "    X_test_back=X_test\n",
    "except:\n",
    "    pass\n",
    "    \n",
    "\n",
    "####### Get rid of annoying columns and strings\n",
    "\n",
    "#######Convert the dataset to float\n",
    "\n",
    "a=X_train_back.columns\n",
    "a=pd.DataFrame(a)\n",
    "b=a.loc[a[0]=='pH_y'].index\n",
    "\n",
    "aa=a[b[0]:]\n",
    "a=X_train_back.columns\n",
    "aa=a[b[0]:]\n",
    "\n",
    "XX_train=X_train_back.drop(columns=aa)\n",
    "XX_test=X_test_back.drop(columns=aa)\n",
    "\n",
    "\n",
    "##Find the related column which our target components are starting\n",
    "##It means we will seprate the all chemical components results from short term test\n",
    "##and the LS, material class and test type of the long term test in the training set\n",
    "##Training set=(all info from short term test+ LS,material class,test type (long term test))\n",
    "##we need to predict the rest of information for long term test, but one by one\n",
    "\n",
    "##Define the specific chemical components in order to predict\n",
    "component = input(\"Enter your considered chemical component: (Start with capital letter)\\n'But --pH-- is written like that'\\n \")\n",
    "\n",
    "try:\n",
    "    filter_data = np.column_stack(a[XX_train.shape[1]:].str.contains(str(component), na=False) for col in a[XX_train.shape[1]:])\n",
    "except:\n",
    "    pass\n",
    "filter_data=pd.DataFrame(filter_data)\n",
    "component_index= filter_data.loc[filter_data[0]==True].index[0]\n",
    "\n",
    "first=component_index+XX_train.shape[1]\n",
    "second=first+1\n",
    "\n",
    "X_train=X_train_back\n",
    "y_train=y_train_back\n",
    "y_test=y_test_back\n",
    "X_test=X_test_back    \n",
    "y_train=X_train[a[first:second]]\n",
    "y_test=y_test[a[first:second]]\n",
    "X_train=X_train.drop(columns=aa)\n",
    "X_test=X_test.drop(columns=aa)\n",
    "\n",
    "\n",
    "a=X_train[(X_train['encoder__x0_DIN19528EX_x'] == 1) | (X_train['encoder__x0_FprEN14405_x'] == 1)| (X_train['encoder__x0_CEN/TS16637-3_x'] == 1)].index\n",
    "X_train=X_train.loc[a]\n",
    "y_train=y_train.loc[a]\n",
    "\n",
    "a=X_train[(X_train['encoder__x0_DIN19528EX_y'] == 1) | (X_train['encoder__x0_FprEN14405_y'] == 1)| (X_train['encoder__x0_CEN/TS16637-3_y'] == 1)].index\n",
    "X_train=X_train.loc[a]\n",
    "y_train=y_train.loc[a]\n",
    "\n",
    "b=X_test[(X_test['encoder__x0_DIN19528EX_x'] == 1) | (X_test['encoder__x0_FprEN14405_x'] == 1)| (X_test['encoder__x0_CEN/TS16637-3_x'] == 1)].index\n",
    "X_test=X_test.loc[b]\n",
    "y_test=y_test.loc[b]\n",
    "\n",
    "b=X_test[(X_test['encoder__x0_DIN19528EX_y'] == 1) | (X_test['encoder__x0_FprEN14405_y'] == 1)| (X_test['encoder__x0_CEN/TS16637-3_y'] == 1)].index\n",
    "X_test=X_test.loc[b]\n",
    "y_test=y_test.loc[b]\n",
    "\n",
    "\n",
    "# a=X_train[(X_train['encoder__x0_DIN19528EX_x'] == 1)].index\n",
    "# X_train=X_train.loc[a]\n",
    "# y_train=y_train.loc[a]\n",
    "\n",
    "# a=X_train[(X_train['encoder__x0_DIN19528EX_y'] == 1)].index\n",
    "# X_train=X_train.loc[a]\n",
    "# y_train=y_train.loc[a]\n",
    "\n",
    "# b=X_test[(X_test['encoder__x0_DIN19528EX_x'] == 1)].index\n",
    "# X_test=X_test.loc[b]\n",
    "# y_test=y_test.loc[b]\n",
    "\n",
    "# b=X_test[(X_test['encoder__x0_DIN19528EX_y'] == 1)].index\n",
    "# X_test=X_test.loc[b]\n",
    "# y_test=y_test.loc[b]\n",
    "\n",
    "a=X_train[(X_train['encoder__x0_RC'] == 1)].index\n",
    "#a=X_train[(X_train['encoder__x0_RC'] == 1) | (X_train['encoder__x0_HMVA'] == 1)].index\n",
    "X_train=X_train.loc[a]\n",
    "y_train=y_train.loc[a]\n",
    "\n",
    "b=X_test[(X_test['encoder__x0_RC'] == 1)].index\n",
    "# b=X_test[(X_test['encoder__x0_RC'] == 1)| (X_test['encoder__x0_HMVA'] == 1)].index\n",
    "X_test=X_test.loc[b]\n",
    "y_test=y_test.loc[b]\n",
    "\n",
    "# from sklearn.preprocessing import StandardScaler\n",
    "# sc_x=StandardScaler()\n",
    "# sc_xx=StandardScaler()\n",
    "# sc_y=StandardScaler()\n",
    "# sc_yy=StandardScaler()\n",
    "# X_train=sc_x.fit_transform(X_train)\n",
    "# X_test=sc_x.fit_transform(X_test)\n",
    "# y_train=sc_y.fit_transform(y_train)\n",
    "# y_test=sc_yy.fit_transform(y_test)\n"
   ]
  },
  {
   "cell_type": "markdown",
   "metadata": {
    "id": "0sNz74NLs7d9"
   },
   "source": [
    "# Implement machine learning algorithm and evaluating the model performance"
   ]
  },
  {
   "cell_type": "code",
   "execution_count": 123,
   "metadata": {
    "colab": {
     "base_uri": "https://localhost:8080/"
    },
    "id": "IjBlFgKaP4pM",
    "outputId": "cb222904-fa10-4b7f-ae5c-aa19b02d6998"
   },
   "outputs": [
    {
     "name": "stdout",
     "output_type": "stream",
     "text": [
      "\n",
      "RandomForest\n",
      "Train score\n",
      "0.9689685441499664\n",
      "Test score\n",
      "0.4548517059812174\n",
      "\n",
      "ExtraTrees\n",
      "Train score\n",
      "0.9999999987711576\n",
      "Test score\n",
      "0.5255437499054982\n",
      "\n",
      "ARD\n",
      "Train score\n",
      "0.6183232875123577\n",
      "Test score\n",
      "0.5030458542248573\n",
      "\n",
      "BayesianRidge\n",
      "Train score\n",
      "0.5001928409411778\n",
      "Test score\n",
      "0.5445360404421824\n",
      "\n",
      "LassoLarsCV\n",
      "Train score\n",
      "0.49390614253207155\n",
      "Test score\n",
      "0.5481499917730395\n",
      "\n",
      "GradientBoosting\n",
      "Train score\n",
      "0.9921391497863512\n",
      "Test score\n",
      "0.5835008123184919\n",
      "\n",
      "BaggingRegressor\n",
      "Train score\n",
      "0.9689127836802603\n",
      "Test score\n",
      "0.45818481114988063\n",
      "\n",
      "XGboost\n",
      "Train score\n",
      "0.999999999999833\n",
      "Test score\n",
      "0.5158129509923138\n"
     ]
    }
   ],
   "source": [
    "##Implement the machine learning algorithm\n",
    "\n",
    "##Select algorithms\n",
    "\n",
    "##Accuracy of the model\n",
    "def evaluate():\n",
    "  r2_traine=mode.score(X_train, y_train)\n",
    "  print('Train score')\n",
    "  print(r2_traine)\n",
    "  r2_teste=mode.score(X_test, y_test)\n",
    "  print('Test score')\n",
    "  print(r2_teste)\n",
    "  globals()['predictionse_'+regressors[i]]=mode.predict(X_test)\n",
    "\n",
    "\n",
    "regressors = ['RandomForest','ExtraTrees','ARD','BayesianRidge','LassoLarsCV','GradientBoosting','BaggingRegressor','XGboost']\n",
    "#regressors = ['RandomForest','ExtraTrees','XGboost']\n",
    "\n",
    "for i in range (len(regressors)):\n",
    "  if regressors[i] == 'RandomForest':\n",
    "    mode = RandomForestRegressor(n_estimators=400, random_state=1, n_jobs=-1).fit(X_train, y_train)\n",
    "    print('\\n'+regressors[i])\n",
    "    evaluate()\n",
    "    filename = y_test.columns[0]+regressors[i]+'.sav'\n",
    "    pickle.dump(mode, open(filename, 'wb'))\n",
    "  if regressors[i] == 'ExtraTrees':\n",
    "    mode = ExtraTreesRegressor(n_estimators=400, random_state=1, n_jobs=-1).fit(X_train, y_train)\n",
    "    print('\\n'+regressors[i])\n",
    "    evaluate()\n",
    "    filename = y_test.columns[0]+regressors[i]+'.sav'\n",
    "    pickle.dump(mode, open(filename, 'wb'))\n",
    "  if regressors[i] == 'ARD':\n",
    "    mode = ARDRegression(n_iter=500).fit(X_train, y_train)\n",
    "    print('\\n'+regressors[i])\n",
    "    evaluate()\n",
    "    filename = y_test.columns[0]+regressors[i]+'.sav'\n",
    "    pickle.dump(mode, open(filename, 'wb'))\n",
    "  if regressors[i] == 'BayesianRidge':\n",
    "    mode = BayesianRidge(n_iter=600).fit(X_train, y_train)\n",
    "    print('\\n'+regressors[i])\n",
    "    evaluate()  \n",
    "    filename = y_test.columns[0]+regressors[i]+'.sav'\n",
    "    pickle.dump(mode, open(filename, 'wb'))\n",
    "  if regressors[i] == 'LassoLarsCV':\n",
    "    mode =  LassoLarsCV(cv=10, normalize=False).fit(X_train, y_train)\n",
    "    print('\\n'+regressors[i])\n",
    "    evaluate()    \n",
    "    filename = y_test.columns[0]+regressors[i]+'.sav'\n",
    "    pickle.dump(mode, open(filename, 'wb'))\n",
    "  if regressors[i] == 'XGboost':\n",
    "    mode =  XGBRegressor(n_estimators=600, n_jobs=-1, random_state=1).fit(X_train, y_train)\n",
    "    print('\\n'+regressors[i])\n",
    "    evaluate()    \n",
    "    filename = y_test.columns[0]+regressors[i]+'.sav'\n",
    "    pickle.dump(mode, open(filename, 'wb'))  \n",
    "  if regressors[i] == 'BaggingRegressor':\n",
    "    mode =  BaggingRegressor(n_estimators=400, random_state=1, n_jobs=-1).fit(X_train, y_train)\n",
    "    print('\\n'+regressors[i])\n",
    "    evaluate()    \n",
    "    filename = y_test.columns[0]+regressors[i]+'.sav'\n",
    "    pickle.dump(mode, open(filename, 'wb'))    \n",
    "  if regressors[i] == 'GradientBoosting':\n",
    "    mode =  GradientBoostingRegressor(n_estimators=600, validation_fraction=0.1,\n",
    "                                                           random_state=1, criterion=\"friedman_mse\").fit(X_train, y_train)\n",
    "    print('\\n'+regressors[i])\n",
    "    evaluate()    \n",
    "    filename = y_test.columns[0]+regressors[i]+'.sav'\n",
    "    pickle.dump(mode, open(filename, 'wb'))   \n",
    "    \n",
    "    \n"
   ]
  },
  {
   "cell_type": "markdown",
   "metadata": {
    "id": "BPMEEsSJu6UC"
   },
   "source": [
    "# Cross validation"
   ]
  },
  {
   "cell_type": "code",
   "execution_count": 124,
   "metadata": {
    "colab": {
     "base_uri": "https://localhost:8080/"
    },
    "hide_input": false,
    "id": "vTdQyYG9u9Fe",
    "outputId": "155e95f4-c099-43b9-ee91-769be818412a",
    "scrolled": true
   },
   "outputs": [
    {
     "name": "stdout",
     "output_type": "stream",
     "text": [
      "CV RandomForest= 0.74\n",
      "CV ExtraTrees= 0.66\n",
      "CV ARD= 0.6\n",
      "CV BayesianRidge= 0.5\n",
      "CV LassoLarsCV= 0.5\n",
      "CV GradientBoosting= 0.85\n",
      "CV BaggingRegressor= 0.74\n",
      "CV XGboost= 0.85\n"
     ]
    }
   ],
   "source": [
    "##Cross validation\n",
    "X=(pd.concat([X_train,X_test]))\n",
    "Y=(pd.concat([y_train,y_test]))\n",
    "kf = KFold(n_splits=10, random_state=1, shuffle=True);\n",
    "\n",
    "for i in range (len(regressors)):\n",
    "    mode=pickle.load(open(y_test.columns[0]+regressors[i]+'.sav', 'rb'));\n",
    "    globals()['r2_traine_'+regressors[i]]=round(mode.score(X_train, y_train),2);\n",
    "    globals()['test_r_'+regressors[i]]=round(mode.score(X_test, y_test),2);\n",
    "    globals()['cv_results_'+regressors[i]] = cross_validate(mode, X, Y, cv=kf);\n",
    "    globals()['train_r_'+regressors[i]]=round(np.mean(eval('cv_results_'+regressors[i])['test_score'],),2);\n",
    "    globals()['annotations_'+regressors[i]] = [dict(text=\"$Train Cross Validation R^2=\"+str(eval('train_r_'+regressors[i]))+'$',\n",
    "                      xref=\"paper\", yref=\"paper\",\n",
    "                      x=0.02, y=0.89, showarrow=False),\n",
    "                        dict(text=\"$Test R^2=\"+str(eval('test_r_'+regressors[i]))+'$',\n",
    "                      xref=\"paper\", yref=\"paper\",\n",
    "                      x=0.02, y=0.97, showarrow=False),\n",
    "                        dict(text=\"$Train R^2=\"+str(eval('r2_traine_'+regressors[i]))+'$',\n",
    "                      xref=\"paper\", yref=\"paper\",\n",
    "                      x=0.02, y=0.81, showarrow=False)]; \n",
    "    print('CV '+regressors[i]+'= '+str(eval('train_r_'+regressors[i])))\n"
   ]
  },
  {
   "cell_type": "markdown",
   "metadata": {
    "id": "H4WDvd0ouR9G"
   },
   "source": [
    "# Visualization"
   ]
  },
  {
   "cell_type": "code",
   "execution_count": null,
   "metadata": {
    "colab": {
     "base_uri": "https://localhost:8080/",
     "height": 349
    },
    "id": "F8o-0eYzwroH",
    "outputId": "7bc901db-1f7b-4506-be98-8dbaf2099097"
   },
   "outputs": [],
   "source": [
    "\n",
    "# predictionse=mode.predict(X_test) \n",
    "# ax = sns.regplot(y_test, predictionse, ci=95)\n",
    "# ax.set_xlabel(\"Measured\")\n",
    "# ax.set_ylabel(\"Predicted\")\n",
    "# ax.set_title(y_test.columns[0])\n",
    "\n",
    "# sum_errs = arraysum((y_test.values - predictionse)**2)\n",
    "# stdev = sqrt(1/(len(y_test)-2) * sum_errs)\n",
    "# stdev = np.std(predictionse)"
   ]
  },
  {
   "cell_type": "code",
   "execution_count": 117,
   "metadata": {
    "colab": {
     "base_uri": "https://localhost:8080/",
     "height": 542
    },
    "id": "ly8atXtAIeXb",
    "outputId": "6ea7985f-a4f9-49bc-bd52-97470ae92e3c",
    "scrolled": false
   },
   "outputs": [
    {
     "data": {
      "application/vnd.plotly.v1+json": {
       "config": {
        "plotlyServerURL": "https://plot.ly"
       },
       "data": [
        {
         "mode": "markers",
         "name": "RandomForest",
         "type": "scatter",
         "x": [
          0,
          0,
          0,
          0,
          301.49,
          119.73,
          0,
          0,
          47.85,
          22.91,
          0,
          0,
          0,
          0,
          0,
          0,
          0,
          0,
          0,
          0,
          0,
          0,
          0,
          0,
          323.26,
          147.74,
          336.7375136665249,
          0,
          0,
          0,
          0,
          297.7292,
          138.5321,
          297.7292,
          138.5321,
          294.2469,
          128.9242,
          0,
          0,
          0,
          0,
          0,
          0,
          0,
          0,
          0,
          0,
          0,
          0,
          0,
          0,
          0,
          0,
          0,
          0,
          0,
          0,
          107.6763310738403,
          0,
          0,
          0,
          0,
          105.9341,
          112.8923,
          0,
          162.4611,
          112.04,
          107.6763310738403,
          105.9341,
          112.8923,
          0,
          105.9341,
          112.8923,
          0,
          0,
          0,
          164.1272130165312,
          0,
          0,
          0,
          0,
          109.7949,
          113.0745,
          0,
          109.7949,
          113.0745,
          0,
          117.9356,
          96.4135,
          164.1272130165312,
          109.7949,
          113.0745,
          0,
          109.7949,
          113.0745,
          0,
          0,
          0,
          0,
          0,
          0,
          0,
          0,
          0,
          0,
          0,
          0,
          0,
          475.83,
          192.04,
          0,
          0,
          559.22,
          5.58,
          245.86,
          199.24,
          20.1337,
          16.8123,
          0,
          0,
          188.4588014325963,
          0,
          0,
          0,
          0,
          201.7833,
          252.317,
          0,
          935.2154,
          689.2096,
          188.4588014325963,
          201.7833,
          252.317,
          0,
          201.7833,
          252.317,
          0,
          0,
          0,
          0,
          0
         ],
         "y": [
          74.0971981348864,
          97.2801241186064,
          17.399954056981606,
          15.524187516205822,
          372.6243739999539,
          158.5204154176441,
          13.619110122606308,
          39.3029593718985,
          35.515979491796344,
          35.66573739945715,
          2.5686263195849612,
          64.71275069270692,
          5.048451314852341,
          25.1767264257599,
          13.52463978857062,
          24.530902915293915,
          63.818153105290236,
          103.60874884246947,
          3.5438371553730206,
          14.704226165614749,
          75.37911062588792,
          85.88022043405329,
          106.36994819999383,
          53.90142886465439,
          364.3378302463527,
          170.03060253123328,
          169.81062090304513,
          34.19317654454548,
          52.27244484625005,
          49.310420355973186,
          56.10753889818221,
          198.84773874379428,
          255.24001694681155,
          78.40085583569915,
          100.98213897827917,
          284.48833668651196,
          222.67666002153715,
          54.40403216053515,
          58.61792270616088,
          34.697090692585384,
          46.844986595938636,
          3.331956041568184,
          23.172689769833568,
          3.0966433500530606,
          14.52219159194752,
          82.36650744179451,
          27.093459577057466,
          4.0242899206665745,
          17.450607424869347,
          12.38189841240702,
          43.38257815651026,
          45.66865267441521,
          57.68217033943675,
          65.37924946764069,
          118.50073197266974,
          113.92299090832537,
          68.44294801110946,
          77.36213025402589,
          38.75005436798754,
          26.748545198450145,
          25.22193747693505,
          25.330130933652363,
          26.798698439766948,
          49.208731004509325,
          26.319953284054105,
          74.49137243661816,
          90.40140979956425,
          179.0517216865541,
          79.96352249189708,
          76.32112565561403,
          84.00165028961602,
          13.444212357796168,
          14.249731137077509,
          18.110564188957017,
          46.67849114833602,
          17.975046949366558,
          145.75253884488214,
          27.332276241116514,
          27.2494109753719,
          12.62683061937221,
          10.208074770093395,
          55.42802829597254,
          90.9355325303461,
          49.92555941655214,
          37.83674326409494,
          65.19029488336581,
          34.60580306520669,
          72.7064199369075,
          93.30762549238896,
          213.95510325686456,
          18.062965866016228,
          14.320432213085217,
          11.24476283822498,
          19.600637565398287,
          9.996349600249847,
          15.860727940339595,
          78.405800802968,
          149.09473687737224,
          4.698587008281862,
          9.479391579769853,
          8.31127922905151,
          66.02281061767204,
          10.48769630305159,
          9.648686644746931,
          25.02794501862732,
          22.51964809854629,
          12.55147864491641,
          43.67369593133289,
          358.32301509154837,
          131.9194135035585,
          5.560707888134813,
          16.586280807678897,
          326.52684817098054,
          244.06611835294552,
          360.14238573011954,
          205.4223536664032,
          131.62264686973512,
          120.45618462696125,
          22.570085401515684,
          18.495051283999583,
          98.08243891107368,
          15.279738650926092,
          16.816078770437525,
          33.24575604931042,
          30.51853475693593,
          25.019583587488004,
          73.43037507285422,
          25.019583587488004,
          407.1329729338988,
          203.0555661776021,
          182.73908386252822,
          16.84053066240812,
          14.156171448765612,
          12.910550587359003,
          38.50402884368453,
          49.24138951199573,
          42.766718749892746,
          82.30210574161617,
          124.3174028365972,
          84.72775692017488,
          74.87287708199098
         ]
        },
        {
         "mode": "markers",
         "name": "ExtraTrees",
         "type": "scatter",
         "x": [
          0,
          0,
          0,
          0,
          301.49,
          119.73,
          0,
          0,
          47.85,
          22.91,
          0,
          0,
          0,
          0,
          0,
          0,
          0,
          0,
          0,
          0,
          0,
          0,
          0,
          0,
          323.26,
          147.74,
          336.7375136665249,
          0,
          0,
          0,
          0,
          297.7292,
          138.5321,
          297.7292,
          138.5321,
          294.2469,
          128.9242,
          0,
          0,
          0,
          0,
          0,
          0,
          0,
          0,
          0,
          0,
          0,
          0,
          0,
          0,
          0,
          0,
          0,
          0,
          0,
          0,
          107.6763310738403,
          0,
          0,
          0,
          0,
          105.9341,
          112.8923,
          0,
          162.4611,
          112.04,
          107.6763310738403,
          105.9341,
          112.8923,
          0,
          105.9341,
          112.8923,
          0,
          0,
          0,
          164.1272130165312,
          0,
          0,
          0,
          0,
          109.7949,
          113.0745,
          0,
          109.7949,
          113.0745,
          0,
          117.9356,
          96.4135,
          164.1272130165312,
          109.7949,
          113.0745,
          0,
          109.7949,
          113.0745,
          0,
          0,
          0,
          0,
          0,
          0,
          0,
          0,
          0,
          0,
          0,
          0,
          0,
          475.83,
          192.04,
          0,
          0,
          559.22,
          5.58,
          245.86,
          199.24,
          20.1337,
          16.8123,
          0,
          0,
          188.4588014325963,
          0,
          0,
          0,
          0,
          201.7833,
          252.317,
          0,
          935.2154,
          689.2096,
          188.4588014325963,
          201.7833,
          252.317,
          0,
          201.7833,
          252.317,
          0,
          0,
          0,
          0,
          0
         ],
         "y": [
          144.85977705993585,
          200.6564255497524,
          4.908580754921091,
          7.3473986917924945,
          348.63312710039713,
          189.4705691256054,
          6.189556988930442,
          5.611387779964124,
          43.59233832445109,
          43.58921304244635,
          4.812152054214789,
          6.772472418711384,
          4.863961135217234,
          5.532721290219749,
          2.925654460820991,
          3.969577252709002,
          27.980974147443384,
          37.948205619671974,
          11.171634100925466,
          11.94198884347217,
          173.25346654910157,
          169.50630918849035,
          58.149895212628174,
          50.822970335625044,
          279.02790203207894,
          158.75398868538252,
          241.2767104938185,
          6.316775931845676,
          9.667563617015393,
          8.124468235544926,
          9.152623091577084,
          215.99789250340788,
          226.38443517512718,
          115.60271627996438,
          137.6403277344285,
          358.7339500241581,
          269.4638473969855,
          47.09666111640848,
          50.001820115516445,
          41.27224520771555,
          49.80023572940936,
          2.3744116360608527,
          11.438435945543235,
          1.1556276046523921,
          6.462170275437208,
          35.36402423205804,
          28.583152176643818,
          2.4758580700240462,
          10.736603860774414,
          33.52406528907508,
          44.978144754167445,
          30.605211577668133,
          39.96067164924861,
          55.6188838460029,
          100.87475468071243,
          68.76342896470238,
          79.20846158414976,
          40.093310651953146,
          9.728250380611325,
          13.694822636308976,
          10.7368193350311,
          12.096526835925868,
          8.402609513257694,
          23.243197138879342,
          7.015810831335172,
          104.88621450106778,
          92.47599143256933,
          208.18227513471288,
          59.63247153900509,
          58.37364365819146,
          49.57989482354434,
          53.80876288700688,
          62.080490333805635,
          52.728417969174785,
          4.30900668337099,
          5.2697525466240975,
          163.38896629647672,
          10.86877459594475,
          11.833191976064308,
          4.761300227075406,
          6.494679580562948,
          57.85627869704093,
          120.97307930294221,
          51.476731383611984,
          41.68561530765111,
          86.44738728819306,
          34.34302910562607,
          107.0334710528337,
          122.00954216719529,
          250.1567977206023,
          28.807332859155146,
          46.28207922076425,
          45.436892797640965,
          36.54773971370286,
          31.264661590741877,
          32.639225193670356,
          132.84269600768144,
          122.85748256484243,
          3.3808124226380505,
          6.172054493680805,
          3.66338147191054,
          11.373199387106911,
          8.237640724226459,
          11.373093553774261,
          9.616416043056487,
          10.761059155066539,
          24.713558997215955,
          27.162723292950805,
          410.79757611551,
          184.73304827404485,
          3.0837575991208808,
          8.48354051374266,
          458.5046148985865,
          263.3141581652084,
          218.38694317562943,
          151.5150624281651,
          142.2780647483321,
          91.04674248344786,
          19.560906486298453,
          24.78985759307719,
          80.85829691320541,
          4.851169109226884,
          6.24147890007714,
          4.258271282082645,
          6.227227609777798,
          7.044535767683808,
          64.5164878087563,
          7.044535767683808,
          546.2108037800994,
          332.5421172095615,
          250.86406917723914,
          6.752905053081076,
          12.175948066823434,
          7.827371371141688,
          7.27216665025384,
          10.762234385192457,
          7.780722270598951,
          109.5828997181914,
          134.59546513862705,
          50.9592239413863,
          63.63293596254467
         ]
        },
        {
         "mode": "markers",
         "name": "XGboost",
         "type": "scatter",
         "x": [
          0,
          0,
          0,
          0,
          301.49,
          119.73,
          0,
          0,
          47.85,
          22.91,
          0,
          0,
          0,
          0,
          0,
          0,
          0,
          0,
          0,
          0,
          0,
          0,
          0,
          0,
          323.26,
          147.74,
          336.7375136665249,
          0,
          0,
          0,
          0,
          297.7292,
          138.5321,
          297.7292,
          138.5321,
          294.2469,
          128.9242,
          0,
          0,
          0,
          0,
          0,
          0,
          0,
          0,
          0,
          0,
          0,
          0,
          0,
          0,
          0,
          0,
          0,
          0,
          0,
          0,
          107.6763310738403,
          0,
          0,
          0,
          0,
          105.9341,
          112.8923,
          0,
          162.4611,
          112.04,
          107.6763310738403,
          105.9341,
          112.8923,
          0,
          105.9341,
          112.8923,
          0,
          0,
          0,
          164.1272130165312,
          0,
          0,
          0,
          0,
          109.7949,
          113.0745,
          0,
          109.7949,
          113.0745,
          0,
          117.9356,
          96.4135,
          164.1272130165312,
          109.7949,
          113.0745,
          0,
          109.7949,
          113.0745,
          0,
          0,
          0,
          0,
          0,
          0,
          0,
          0,
          0,
          0,
          0,
          0,
          0,
          475.83,
          192.04,
          0,
          0,
          559.22,
          5.58,
          245.86,
          199.24,
          20.1337,
          16.8123,
          0,
          0,
          188.4588014325963,
          0,
          0,
          0,
          0,
          201.7833,
          252.317,
          0,
          935.2154,
          689.2096,
          188.4588014325963,
          201.7833,
          252.317,
          0,
          201.7833,
          252.317,
          0,
          0,
          0,
          0,
          0
         ],
         "y": [
          20.565570831298828,
          138.2762908935547,
          17.775222778320312,
          2.553514003753662,
          392.61175537109375,
          183.01055908203125,
          33.81025695800781,
          99.18334197998047,
          86.48104095458984,
          57.22694778442383,
          12.130022048950195,
          21.31621742248535,
          5.9324188232421875,
          23.244707107543945,
          11.112702369689941,
          21.137174606323242,
          24.032379150390625,
          78.91165161132812,
          5.642879009246826,
          1.462303876876831,
          32.87989044189453,
          42.20076370239258,
          19.682283401489258,
          15.573213577270508,
          395.65228271484375,
          226.39295959472656,
          206.92037963867188,
          -3.2228877544403076,
          10.638345718383789,
          5.328730583190918,
          -17.031360626220703,
          227.7710418701172,
          213.85601806640625,
          89.73491668701172,
          115.9498062133789,
          164.82583618164062,
          105.64576721191406,
          5.410810470581055,
          22.257780075073242,
          43.49699783325195,
          -8.898649215698242,
          21.2508544921875,
          1.093818187713623,
          7.106931686401367,
          2.628993034362793,
          56.99303436279297,
          19.835834503173828,
          5.801845073699951,
          10.811123847961426,
          11.642277717590332,
          54.63359832763672,
          17.31395149230957,
          12.70234203338623,
          17.91740608215332,
          168.27561950683594,
          32.438968658447266,
          83.20189666748047,
          20.50764274597168,
          4.6533403396606445,
          12.235499382019043,
          16.255992889404297,
          32.87884521484375,
          18.752748489379883,
          32.75434112548828,
          -5.079004764556885,
          81.92781829833984,
          60.17306900024414,
          115.73492431640625,
          85.45330810546875,
          80.52945709228516,
          48.5544548034668,
          27.650074005126953,
          18.63044548034668,
          -4.870011806488037,
          15.258559226989746,
          3.7789363861083984,
          177.77218627929688,
          -64.39676666259766,
          -61.726078033447266,
          7.336381435394287,
          15.714306831359863,
          86.5231704711914,
          131.1808624267578,
          27.800981521606445,
          49.19272232055664,
          63.05657196044922,
          0.45121240615844727,
          82.89525604248047,
          47.44938278198242,
          160.58517456054688,
          56.19165802001953,
          39.280696868896484,
          11.532422065734863,
          46.79613494873047,
          26.102373123168945,
          4.414244651794434,
          26.89911651611328,
          79.08534240722656,
          9.831628799438477,
          1.6102100610733032,
          5.137269020080566,
          2.2112762928009033,
          78.0308609008789,
          25.516759872436523,
          93.11520385742188,
          36.647735595703125,
          15.251360893249512,
          19.61260223388672,
          423.6459655761719,
          148.06312561035156,
          -3.038956880569458,
          -3.8395042419433594,
          295.8062438964844,
          199.40943908691406,
          398.2598876953125,
          232.6334686279297,
          81.8674545288086,
          34.06087112426758,
          5.021826267242432,
          25.346118927001953,
          84.42671966552734,
          3.442556858062744,
          4.1675848960876465,
          -4.897351264953613,
          1.7804049253463745,
          0.1640789955854416,
          50.93326187133789,
          0.1640789955854416,
          536.81005859375,
          229.50242614746094,
          175.16949462890625,
          27.336009979248047,
          10.921564102172852,
          11.905014991760254,
          12.310314178466797,
          36.33339309692383,
          -20.478090286254883,
          30.651824951171875,
          148.3319091796875,
          86.3713150024414,
          14.028556823730469
         ]
        },
        {
         "mode": "markers",
         "name": "GradientBoosting",
         "type": "scatter",
         "x": [
          0,
          0,
          0,
          0,
          301.49,
          119.73,
          0,
          0,
          47.85,
          22.91,
          0,
          0,
          0,
          0,
          0,
          0,
          0,
          0,
          0,
          0,
          0,
          0,
          0,
          0,
          323.26,
          147.74,
          336.7375136665249,
          0,
          0,
          0,
          0,
          297.7292,
          138.5321,
          297.7292,
          138.5321,
          294.2469,
          128.9242,
          0,
          0,
          0,
          0,
          0,
          0,
          0,
          0,
          0,
          0,
          0,
          0,
          0,
          0,
          0,
          0,
          0,
          0,
          0,
          0,
          107.6763310738403,
          0,
          0,
          0,
          0,
          105.9341,
          112.8923,
          0,
          162.4611,
          112.04,
          107.6763310738403,
          105.9341,
          112.8923,
          0,
          105.9341,
          112.8923,
          0,
          0,
          0,
          164.1272130165312,
          0,
          0,
          0,
          0,
          109.7949,
          113.0745,
          0,
          109.7949,
          113.0745,
          0,
          117.9356,
          96.4135,
          164.1272130165312,
          109.7949,
          113.0745,
          0,
          109.7949,
          113.0745,
          0,
          0,
          0,
          0,
          0,
          0,
          0,
          0,
          0,
          0,
          0,
          0,
          0,
          475.83,
          192.04,
          0,
          0,
          559.22,
          5.58,
          245.86,
          199.24,
          20.1337,
          16.8123,
          0,
          0,
          188.4588014325963,
          0,
          0,
          0,
          0,
          201.7833,
          252.317,
          0,
          935.2154,
          689.2096,
          188.4588014325963,
          201.7833,
          252.317,
          0,
          201.7833,
          252.317,
          0,
          0,
          0,
          0,
          0
         ],
         "y": [
          37.10914479926957,
          87.77434234688779,
          5.526585215656263,
          22.53570954872294,
          228.92622016103974,
          41.923698121000925,
          22.294061842068363,
          47.434406642893755,
          112.87722096728483,
          51.43061277686815,
          0.8014495924368984,
          17.41291290159052,
          11.015760641727967,
          19.54970313777269,
          2.9642916456292423,
          24.952481669146174,
          12.231336662479931,
          30.58071345142908,
          1.4264772088358324,
          24.253411145277592,
          51.06817919892927,
          33.39287351867108,
          22.138123806686398,
          21.19623440658134,
          225.15369092206484,
          130.02524886105869,
          164.64980550287936,
          20.018842581694667,
          17.11460453270155,
          21.966626032766825,
          60.26817518239372,
          163.55981575048702,
          151.42679509106551,
          82.44175416490587,
          98.37843763860384,
          199.7004631833142,
          138.094096549786,
          22.019222929480602,
          1.234984468374685,
          8.181713905898382,
          29.649170443345813,
          39.71503589088847,
          10.250172376214126,
          2.6129691652298574,
          13.462017674801244,
          48.8762169274337,
          19.2820744094381,
          7.531508148776064,
          3.1225637495329743,
          1.7243186464226459,
          38.67657194985596,
          3.9387627987576295,
          15.371072145998149,
          7.675172503344102,
          74.8611867749167,
          55.67934158277769,
          34.655403819113324,
          74.55891250493161,
          4.501076546362655,
          6.505088406824902,
          12.237324129803842,
          10.97686678019948,
          41.78731980006824,
          66.39825908932205,
          12.61021147004345,
          126.33386976554664,
          74.41339379740481,
          137.55161768126436,
          35.779812906471555,
          23.433868570927963,
          15.764337099189467,
          22.983625752326237,
          32.254410470730946,
          13.012041833079667,
          38.98119582337637,
          8.625227217872366,
          113.71243483766573,
          112.88900984938454,
          62.76462391042176,
          4.459741779749136,
          22.517656157679397,
          112.57654548684482,
          132.83213390563324,
          53.18461074182827,
          27.091692989324674,
          69.82267675644542,
          3.3795410113238042,
          187.29335819504755,
          141.04186817797842,
          137.9790558343773,
          41.53455597920079,
          53.343307087709924,
          12.82961960895096,
          33.81939145118623,
          42.48242499210226,
          10.20901297983064,
          12.476568964212257,
          47.645832931111954,
          0.903993897781954,
          0.015328442812922626,
          6.061895433555845,
          17.40323358347559,
          42.26227501988031,
          2.234285551037328,
          42.65790092087613,
          55.6985722825228,
          24.807547327164517,
          47.28223446428439,
          315.2990511712352,
          163.16627078737648,
          19.820339053037156,
          14.289811708327418,
          271.1795406781483,
          276.9012811011296,
          235.47182565872222,
          150.45077622985673,
          105.68708080752164,
          101.14021930468014,
          1.4577833884068028,
          0.6081264058748953,
          64.5482610055322,
          18.51663944753018,
          6.596904022277588,
          21.78422937100206,
          18.651018511275016,
          1.7592136945818793,
          40.847978442705276,
          1.7592136945818793,
          478.3980071372493,
          149.9195577389543,
          153.00622287468337,
          6.344955876322914,
          29.006973648370188,
          6.745172700390776,
          41.06299872197502,
          78.43860797477916,
          19.33568114133569,
          9.357587622452337,
          12.497716672258505,
          2.008214635695395,
          3.1670332605018356
         ]
        },
        {
         "line": {
          "color": "black",
          "dash": "dash",
          "width": 4
         },
         "name": "Line",
         "type": "scatter",
         "x": [
          0,
          935.2154
         ],
         "y": [
          0,
          935.2154
         ]
        }
       ],
       "layout": {
        "template": {
         "data": {
          "bar": [
           {
            "error_x": {
             "color": "#2a3f5f"
            },
            "error_y": {
             "color": "#2a3f5f"
            },
            "marker": {
             "line": {
              "color": "#E5ECF6",
              "width": 0.5
             },
             "pattern": {
              "fillmode": "overlay",
              "size": 10,
              "solidity": 0.2
             }
            },
            "type": "bar"
           }
          ],
          "barpolar": [
           {
            "marker": {
             "line": {
              "color": "#E5ECF6",
              "width": 0.5
             },
             "pattern": {
              "fillmode": "overlay",
              "size": 10,
              "solidity": 0.2
             }
            },
            "type": "barpolar"
           }
          ],
          "carpet": [
           {
            "aaxis": {
             "endlinecolor": "#2a3f5f",
             "gridcolor": "white",
             "linecolor": "white",
             "minorgridcolor": "white",
             "startlinecolor": "#2a3f5f"
            },
            "baxis": {
             "endlinecolor": "#2a3f5f",
             "gridcolor": "white",
             "linecolor": "white",
             "minorgridcolor": "white",
             "startlinecolor": "#2a3f5f"
            },
            "type": "carpet"
           }
          ],
          "choropleth": [
           {
            "colorbar": {
             "outlinewidth": 0,
             "ticks": ""
            },
            "type": "choropleth"
           }
          ],
          "contour": [
           {
            "colorbar": {
             "outlinewidth": 0,
             "ticks": ""
            },
            "colorscale": [
             [
              0,
              "#0d0887"
             ],
             [
              0.1111111111111111,
              "#46039f"
             ],
             [
              0.2222222222222222,
              "#7201a8"
             ],
             [
              0.3333333333333333,
              "#9c179e"
             ],
             [
              0.4444444444444444,
              "#bd3786"
             ],
             [
              0.5555555555555556,
              "#d8576b"
             ],
             [
              0.6666666666666666,
              "#ed7953"
             ],
             [
              0.7777777777777778,
              "#fb9f3a"
             ],
             [
              0.8888888888888888,
              "#fdca26"
             ],
             [
              1,
              "#f0f921"
             ]
            ],
            "type": "contour"
           }
          ],
          "contourcarpet": [
           {
            "colorbar": {
             "outlinewidth": 0,
             "ticks": ""
            },
            "type": "contourcarpet"
           }
          ],
          "heatmap": [
           {
            "colorbar": {
             "outlinewidth": 0,
             "ticks": ""
            },
            "colorscale": [
             [
              0,
              "#0d0887"
             ],
             [
              0.1111111111111111,
              "#46039f"
             ],
             [
              0.2222222222222222,
              "#7201a8"
             ],
             [
              0.3333333333333333,
              "#9c179e"
             ],
             [
              0.4444444444444444,
              "#bd3786"
             ],
             [
              0.5555555555555556,
              "#d8576b"
             ],
             [
              0.6666666666666666,
              "#ed7953"
             ],
             [
              0.7777777777777778,
              "#fb9f3a"
             ],
             [
              0.8888888888888888,
              "#fdca26"
             ],
             [
              1,
              "#f0f921"
             ]
            ],
            "type": "heatmap"
           }
          ],
          "heatmapgl": [
           {
            "colorbar": {
             "outlinewidth": 0,
             "ticks": ""
            },
            "colorscale": [
             [
              0,
              "#0d0887"
             ],
             [
              0.1111111111111111,
              "#46039f"
             ],
             [
              0.2222222222222222,
              "#7201a8"
             ],
             [
              0.3333333333333333,
              "#9c179e"
             ],
             [
              0.4444444444444444,
              "#bd3786"
             ],
             [
              0.5555555555555556,
              "#d8576b"
             ],
             [
              0.6666666666666666,
              "#ed7953"
             ],
             [
              0.7777777777777778,
              "#fb9f3a"
             ],
             [
              0.8888888888888888,
              "#fdca26"
             ],
             [
              1,
              "#f0f921"
             ]
            ],
            "type": "heatmapgl"
           }
          ],
          "histogram": [
           {
            "marker": {
             "pattern": {
              "fillmode": "overlay",
              "size": 10,
              "solidity": 0.2
             }
            },
            "type": "histogram"
           }
          ],
          "histogram2d": [
           {
            "colorbar": {
             "outlinewidth": 0,
             "ticks": ""
            },
            "colorscale": [
             [
              0,
              "#0d0887"
             ],
             [
              0.1111111111111111,
              "#46039f"
             ],
             [
              0.2222222222222222,
              "#7201a8"
             ],
             [
              0.3333333333333333,
              "#9c179e"
             ],
             [
              0.4444444444444444,
              "#bd3786"
             ],
             [
              0.5555555555555556,
              "#d8576b"
             ],
             [
              0.6666666666666666,
              "#ed7953"
             ],
             [
              0.7777777777777778,
              "#fb9f3a"
             ],
             [
              0.8888888888888888,
              "#fdca26"
             ],
             [
              1,
              "#f0f921"
             ]
            ],
            "type": "histogram2d"
           }
          ],
          "histogram2dcontour": [
           {
            "colorbar": {
             "outlinewidth": 0,
             "ticks": ""
            },
            "colorscale": [
             [
              0,
              "#0d0887"
             ],
             [
              0.1111111111111111,
              "#46039f"
             ],
             [
              0.2222222222222222,
              "#7201a8"
             ],
             [
              0.3333333333333333,
              "#9c179e"
             ],
             [
              0.4444444444444444,
              "#bd3786"
             ],
             [
              0.5555555555555556,
              "#d8576b"
             ],
             [
              0.6666666666666666,
              "#ed7953"
             ],
             [
              0.7777777777777778,
              "#fb9f3a"
             ],
             [
              0.8888888888888888,
              "#fdca26"
             ],
             [
              1,
              "#f0f921"
             ]
            ],
            "type": "histogram2dcontour"
           }
          ],
          "mesh3d": [
           {
            "colorbar": {
             "outlinewidth": 0,
             "ticks": ""
            },
            "type": "mesh3d"
           }
          ],
          "parcoords": [
           {
            "line": {
             "colorbar": {
              "outlinewidth": 0,
              "ticks": ""
             }
            },
            "type": "parcoords"
           }
          ],
          "pie": [
           {
            "automargin": true,
            "type": "pie"
           }
          ],
          "scatter": [
           {
            "fillpattern": {
             "fillmode": "overlay",
             "size": 10,
             "solidity": 0.2
            },
            "type": "scatter"
           }
          ],
          "scatter3d": [
           {
            "line": {
             "colorbar": {
              "outlinewidth": 0,
              "ticks": ""
             }
            },
            "marker": {
             "colorbar": {
              "outlinewidth": 0,
              "ticks": ""
             }
            },
            "type": "scatter3d"
           }
          ],
          "scattercarpet": [
           {
            "marker": {
             "colorbar": {
              "outlinewidth": 0,
              "ticks": ""
             }
            },
            "type": "scattercarpet"
           }
          ],
          "scattergeo": [
           {
            "marker": {
             "colorbar": {
              "outlinewidth": 0,
              "ticks": ""
             }
            },
            "type": "scattergeo"
           }
          ],
          "scattergl": [
           {
            "marker": {
             "colorbar": {
              "outlinewidth": 0,
              "ticks": ""
             }
            },
            "type": "scattergl"
           }
          ],
          "scattermapbox": [
           {
            "marker": {
             "colorbar": {
              "outlinewidth": 0,
              "ticks": ""
             }
            },
            "type": "scattermapbox"
           }
          ],
          "scatterpolar": [
           {
            "marker": {
             "colorbar": {
              "outlinewidth": 0,
              "ticks": ""
             }
            },
            "type": "scatterpolar"
           }
          ],
          "scatterpolargl": [
           {
            "marker": {
             "colorbar": {
              "outlinewidth": 0,
              "ticks": ""
             }
            },
            "type": "scatterpolargl"
           }
          ],
          "scatterternary": [
           {
            "marker": {
             "colorbar": {
              "outlinewidth": 0,
              "ticks": ""
             }
            },
            "type": "scatterternary"
           }
          ],
          "surface": [
           {
            "colorbar": {
             "outlinewidth": 0,
             "ticks": ""
            },
            "colorscale": [
             [
              0,
              "#0d0887"
             ],
             [
              0.1111111111111111,
              "#46039f"
             ],
             [
              0.2222222222222222,
              "#7201a8"
             ],
             [
              0.3333333333333333,
              "#9c179e"
             ],
             [
              0.4444444444444444,
              "#bd3786"
             ],
             [
              0.5555555555555556,
              "#d8576b"
             ],
             [
              0.6666666666666666,
              "#ed7953"
             ],
             [
              0.7777777777777778,
              "#fb9f3a"
             ],
             [
              0.8888888888888888,
              "#fdca26"
             ],
             [
              1,
              "#f0f921"
             ]
            ],
            "type": "surface"
           }
          ],
          "table": [
           {
            "cells": {
             "fill": {
              "color": "#EBF0F8"
             },
             "line": {
              "color": "white"
             }
            },
            "header": {
             "fill": {
              "color": "#C8D4E3"
             },
             "line": {
              "color": "white"
             }
            },
            "type": "table"
           }
          ]
         },
         "layout": {
          "annotationdefaults": {
           "arrowcolor": "#2a3f5f",
           "arrowhead": 0,
           "arrowwidth": 1
          },
          "autotypenumbers": "strict",
          "coloraxis": {
           "colorbar": {
            "outlinewidth": 0,
            "ticks": ""
           }
          },
          "colorscale": {
           "diverging": [
            [
             0,
             "#8e0152"
            ],
            [
             0.1,
             "#c51b7d"
            ],
            [
             0.2,
             "#de77ae"
            ],
            [
             0.3,
             "#f1b6da"
            ],
            [
             0.4,
             "#fde0ef"
            ],
            [
             0.5,
             "#f7f7f7"
            ],
            [
             0.6,
             "#e6f5d0"
            ],
            [
             0.7,
             "#b8e186"
            ],
            [
             0.8,
             "#7fbc41"
            ],
            [
             0.9,
             "#4d9221"
            ],
            [
             1,
             "#276419"
            ]
           ],
           "sequential": [
            [
             0,
             "#0d0887"
            ],
            [
             0.1111111111111111,
             "#46039f"
            ],
            [
             0.2222222222222222,
             "#7201a8"
            ],
            [
             0.3333333333333333,
             "#9c179e"
            ],
            [
             0.4444444444444444,
             "#bd3786"
            ],
            [
             0.5555555555555556,
             "#d8576b"
            ],
            [
             0.6666666666666666,
             "#ed7953"
            ],
            [
             0.7777777777777778,
             "#fb9f3a"
            ],
            [
             0.8888888888888888,
             "#fdca26"
            ],
            [
             1,
             "#f0f921"
            ]
           ],
           "sequentialminus": [
            [
             0,
             "#0d0887"
            ],
            [
             0.1111111111111111,
             "#46039f"
            ],
            [
             0.2222222222222222,
             "#7201a8"
            ],
            [
             0.3333333333333333,
             "#9c179e"
            ],
            [
             0.4444444444444444,
             "#bd3786"
            ],
            [
             0.5555555555555556,
             "#d8576b"
            ],
            [
             0.6666666666666666,
             "#ed7953"
            ],
            [
             0.7777777777777778,
             "#fb9f3a"
            ],
            [
             0.8888888888888888,
             "#fdca26"
            ],
            [
             1,
             "#f0f921"
            ]
           ]
          },
          "colorway": [
           "#636efa",
           "#EF553B",
           "#00cc96",
           "#ab63fa",
           "#FFA15A",
           "#19d3f3",
           "#FF6692",
           "#B6E880",
           "#FF97FF",
           "#FECB52"
          ],
          "font": {
           "color": "#2a3f5f"
          },
          "geo": {
           "bgcolor": "white",
           "lakecolor": "white",
           "landcolor": "#E5ECF6",
           "showlakes": true,
           "showland": true,
           "subunitcolor": "white"
          },
          "hoverlabel": {
           "align": "left"
          },
          "hovermode": "closest",
          "mapbox": {
           "style": "light"
          },
          "paper_bgcolor": "white",
          "plot_bgcolor": "#E5ECF6",
          "polar": {
           "angularaxis": {
            "gridcolor": "white",
            "linecolor": "white",
            "ticks": ""
           },
           "bgcolor": "#E5ECF6",
           "radialaxis": {
            "gridcolor": "white",
            "linecolor": "white",
            "ticks": ""
           }
          },
          "scene": {
           "xaxis": {
            "backgroundcolor": "#E5ECF6",
            "gridcolor": "white",
            "gridwidth": 2,
            "linecolor": "white",
            "showbackground": true,
            "ticks": "",
            "zerolinecolor": "white"
           },
           "yaxis": {
            "backgroundcolor": "#E5ECF6",
            "gridcolor": "white",
            "gridwidth": 2,
            "linecolor": "white",
            "showbackground": true,
            "ticks": "",
            "zerolinecolor": "white"
           },
           "zaxis": {
            "backgroundcolor": "#E5ECF6",
            "gridcolor": "white",
            "gridwidth": 2,
            "linecolor": "white",
            "showbackground": true,
            "ticks": "",
            "zerolinecolor": "white"
           }
          },
          "shapedefaults": {
           "line": {
            "color": "#2a3f5f"
           }
          },
          "ternary": {
           "aaxis": {
            "gridcolor": "white",
            "linecolor": "white",
            "ticks": ""
           },
           "baxis": {
            "gridcolor": "white",
            "linecolor": "white",
            "ticks": ""
           },
           "bgcolor": "#E5ECF6",
           "caxis": {
            "gridcolor": "white",
            "linecolor": "white",
            "ticks": ""
           }
          },
          "title": {
           "x": 0.05
          },
          "xaxis": {
           "automargin": true,
           "gridcolor": "white",
           "linecolor": "white",
           "ticks": "",
           "title": {
            "standoff": 15
           },
           "zerolinecolor": "white",
           "zerolinewidth": 2
          },
          "yaxis": {
           "automargin": true,
           "gridcolor": "white",
           "linecolor": "white",
           "ticks": "",
           "title": {
            "standoff": 15
           },
           "zerolinecolor": "white",
           "zerolinewidth": 2
          }
         }
        },
        "title": {
         "x": 0.5,
         "xanchor": "center",
         "y": 0.9,
         "yanchor": "top"
        },
        "updatemenus": [
         {
          "buttons": [
           {
            "args": [
             {
              "visible": [
               true,
               false,
               false,
               false,
               true
              ]
             },
             {
              "annotations": [
               {
                "showarrow": false,
                "text": "$Train Cross Validation R^2=0.65$",
                "x": 0.02,
                "xref": "paper",
                "y": 0.89,
                "yref": "paper"
               },
               {
                "showarrow": false,
                "text": "$Test R^2=0.49$",
                "x": 0.02,
                "xref": "paper",
                "y": 0.97,
                "yref": "paper"
               },
               {
                "showarrow": false,
                "text": "$Train R^2=0.95$",
                "x": 0.02,
                "xref": "paper",
                "y": 0.81,
                "yref": "paper"
               }
              ],
              "title": "RandomForest<br>Calcium_Eluate"
             }
            ],
            "label": "RandomForest",
            "method": "update"
           },
           {
            "args": [
             {
              "visible": [
               false,
               true,
               false,
               false,
               true
              ]
             },
             {
              "annotations": [
               {
                "showarrow": false,
                "text": "$Train Cross Validation R^2=0.63$",
                "x": 0.02,
                "xref": "paper",
                "y": 0.89,
                "yref": "paper"
               },
               {
                "showarrow": false,
                "text": "$Test R^2=0.59$",
                "x": 0.02,
                "xref": "paper",
                "y": 0.97,
                "yref": "paper"
               },
               {
                "showarrow": false,
                "text": "$Train R^2=1.0$",
                "x": 0.02,
                "xref": "paper",
                "y": 0.81,
                "yref": "paper"
               }
              ],
              "title": "ExtraTrees<br>Calcium_Eluate"
             }
            ],
            "label": "ExtraTrees",
            "method": "update"
           },
           {
            "args": [
             {
              "visible": [
               false,
               false,
               false,
               true,
               true
              ]
             },
             {
              "annotations": [
               {
                "showarrow": false,
                "text": "$Train Cross Validation R^2=0.78$",
                "x": 0.02,
                "xref": "paper",
                "y": 0.89,
                "yref": "paper"
               },
               {
                "showarrow": false,
                "text": "$Test R^2=0.53$",
                "x": 0.02,
                "xref": "paper",
                "y": 0.97,
                "yref": "paper"
               },
               {
                "showarrow": false,
                "text": "$Train R^2=0.99$",
                "x": 0.02,
                "xref": "paper",
                "y": 0.81,
                "yref": "paper"
               }
              ],
              "title": "GradientBoosting<br>Calcium_Eluate"
             }
            ],
            "label": "GradientBoosting",
            "method": "update"
           },
           {
            "args": [
             {
              "visible": [
               false,
               false,
               true,
               false,
               true
              ]
             },
             {
              "annotations": [
               {
                "showarrow": false,
                "text": "$Train Cross Validation R^2=0.74$",
                "x": 0.02,
                "xref": "paper",
                "y": 0.89,
                "yref": "paper"
               },
               {
                "showarrow": false,
                "text": "$Test R^2=0.57$",
                "x": 0.02,
                "xref": "paper",
                "y": 0.97,
                "yref": "paper"
               },
               {
                "showarrow": false,
                "text": "$Train R^2=1.0$",
                "x": 0.02,
                "xref": "paper",
                "y": 0.81,
                "yref": "paper"
               }
              ],
              "title": "XGboost<br>Calcium_Eluate"
             }
            ],
            "label": "XGboost",
            "method": "update"
           },
           {
            "args": [
             {
              "visible": [
               true,
               true,
               true,
               true,
               true,
               true
              ]
             },
             {
              "annotations": [
               {
                "showarrow": false,
                "text": " ",
                "x": 0.02,
                "xref": "paper",
                "y": 0.89,
                "yref": "paper"
               }
              ],
              "title": "All algorithms<br>Calcium_Eluate"
             }
            ],
            "label": "All",
            "method": "update"
           }
          ],
          "direction": "down",
          "pad": {
           "r": 10,
           "t": 10
          },
          "showactive": true,
          "x": 0,
          "xanchor": "left",
          "y": 1.13,
          "yanchor": "top"
         }
        ],
        "xaxis": {
         "title": {
          "text": "Measured"
         }
        },
        "yaxis": {
         "title": {
          "text": "Prediction"
         }
        }
       }
      },
      "text/html": [
       "<div>                            <div id=\"74237677-8c12-4431-8300-f697c4047741\" class=\"plotly-graph-div\" style=\"height:525px; width:100%;\"></div>            <script type=\"text/javascript\">                require([\"plotly\"], function(Plotly) {                    window.PLOTLYENV=window.PLOTLYENV || {};                                    if (document.getElementById(\"74237677-8c12-4431-8300-f697c4047741\")) {                    Plotly.newPlot(                        \"74237677-8c12-4431-8300-f697c4047741\",                        [{\"mode\":\"markers\",\"name\":\"RandomForest\",\"x\":[0.0,0.0,0.0,0.0,301.49,119.73,0.0,0.0,47.85,22.91,0.0,0.0,0.0,0.0,0.0,0.0,0.0,0.0,0.0,0.0,0.0,0.0,0.0,0.0,323.26,147.74,336.7375136665249,0.0,0.0,0.0,0.0,297.7292,138.5321,297.7292,138.5321,294.2469,128.9242,0.0,0.0,0.0,0.0,0.0,0.0,0.0,0.0,0.0,0.0,0.0,0.0,0.0,0.0,0.0,0.0,0.0,0.0,0.0,0.0,107.6763310738403,0.0,0.0,0.0,0.0,105.9341,112.8923,0.0,162.4611,112.04,107.6763310738403,105.9341,112.8923,0.0,105.9341,112.8923,0.0,0.0,0.0,164.1272130165312,0.0,0.0,0.0,0.0,109.7949,113.0745,0.0,109.7949,113.0745,0.0,117.9356,96.4135,164.1272130165312,109.7949,113.0745,0.0,109.7949,113.0745,0.0,0.0,0.0,0.0,0.0,0.0,0.0,0.0,0.0,0.0,0.0,0.0,0.0,475.83,192.04,0.0,0.0,559.22,5.58,245.86,199.24,20.1337,16.8123,0.0,0.0,188.4588014325963,0.0,0.0,0.0,0.0,201.7833,252.317,0.0,935.2154,689.2096,188.4588014325963,201.7833,252.317,0.0,201.7833,252.317,0.0,0.0,0.0,0.0,0.0],\"y\":[74.0971981348864,97.2801241186064,17.399954056981606,15.524187516205822,372.6243739999539,158.5204154176441,13.619110122606308,39.3029593718985,35.515979491796344,35.66573739945715,2.5686263195849612,64.71275069270692,5.048451314852341,25.1767264257599,13.52463978857062,24.530902915293915,63.818153105290236,103.60874884246947,3.5438371553730206,14.704226165614749,75.37911062588792,85.88022043405329,106.36994819999383,53.90142886465439,364.3378302463527,170.03060253123328,169.81062090304513,34.19317654454548,52.27244484625005,49.310420355973186,56.10753889818221,198.84773874379428,255.24001694681155,78.40085583569915,100.98213897827917,284.48833668651196,222.67666002153715,54.40403216053515,58.61792270616088,34.697090692585384,46.844986595938636,3.331956041568184,23.172689769833568,3.0966433500530606,14.52219159194752,82.36650744179451,27.093459577057466,4.0242899206665745,17.450607424869347,12.38189841240702,43.38257815651026,45.66865267441521,57.68217033943675,65.37924946764069,118.50073197266974,113.92299090832537,68.44294801110946,77.36213025402589,38.75005436798754,26.748545198450145,25.22193747693505,25.330130933652363,26.798698439766948,49.208731004509325,26.319953284054105,74.49137243661816,90.40140979956425,179.0517216865541,79.96352249189708,76.32112565561403,84.00165028961602,13.444212357796168,14.249731137077509,18.110564188957017,46.67849114833602,17.975046949366558,145.75253884488214,27.332276241116514,27.2494109753719,12.62683061937221,10.208074770093395,55.42802829597254,90.9355325303461,49.92555941655214,37.83674326409494,65.19029488336581,34.60580306520669,72.7064199369075,93.30762549238896,213.95510325686456,18.062965866016228,14.320432213085217,11.24476283822498,19.600637565398287,9.996349600249847,15.860727940339595,78.405800802968,149.09473687737224,4.698587008281862,9.479391579769853,8.31127922905151,66.02281061767204,10.48769630305159,9.648686644746931,25.02794501862732,22.51964809854629,12.55147864491641,43.67369593133289,358.32301509154837,131.9194135035585,5.560707888134813,16.586280807678897,326.52684817098054,244.06611835294552,360.14238573011954,205.4223536664032,131.62264686973512,120.45618462696125,22.570085401515684,18.495051283999583,98.08243891107368,15.279738650926092,16.816078770437525,33.24575604931042,30.51853475693593,25.019583587488004,73.43037507285422,25.019583587488004,407.1329729338988,203.0555661776021,182.73908386252822,16.84053066240812,14.156171448765612,12.910550587359003,38.50402884368453,49.24138951199573,42.766718749892746,82.30210574161617,124.3174028365972,84.72775692017488,74.87287708199098],\"type\":\"scatter\"},{\"mode\":\"markers\",\"name\":\"ExtraTrees\",\"x\":[0.0,0.0,0.0,0.0,301.49,119.73,0.0,0.0,47.85,22.91,0.0,0.0,0.0,0.0,0.0,0.0,0.0,0.0,0.0,0.0,0.0,0.0,0.0,0.0,323.26,147.74,336.7375136665249,0.0,0.0,0.0,0.0,297.7292,138.5321,297.7292,138.5321,294.2469,128.9242,0.0,0.0,0.0,0.0,0.0,0.0,0.0,0.0,0.0,0.0,0.0,0.0,0.0,0.0,0.0,0.0,0.0,0.0,0.0,0.0,107.6763310738403,0.0,0.0,0.0,0.0,105.9341,112.8923,0.0,162.4611,112.04,107.6763310738403,105.9341,112.8923,0.0,105.9341,112.8923,0.0,0.0,0.0,164.1272130165312,0.0,0.0,0.0,0.0,109.7949,113.0745,0.0,109.7949,113.0745,0.0,117.9356,96.4135,164.1272130165312,109.7949,113.0745,0.0,109.7949,113.0745,0.0,0.0,0.0,0.0,0.0,0.0,0.0,0.0,0.0,0.0,0.0,0.0,0.0,475.83,192.04,0.0,0.0,559.22,5.58,245.86,199.24,20.1337,16.8123,0.0,0.0,188.4588014325963,0.0,0.0,0.0,0.0,201.7833,252.317,0.0,935.2154,689.2096,188.4588014325963,201.7833,252.317,0.0,201.7833,252.317,0.0,0.0,0.0,0.0,0.0],\"y\":[144.85977705993585,200.6564255497524,4.908580754921091,7.3473986917924945,348.63312710039713,189.4705691256054,6.189556988930442,5.611387779964124,43.59233832445109,43.58921304244635,4.812152054214789,6.772472418711384,4.863961135217234,5.532721290219749,2.925654460820991,3.969577252709002,27.980974147443384,37.948205619671974,11.171634100925466,11.94198884347217,173.25346654910157,169.50630918849035,58.149895212628174,50.822970335625044,279.02790203207894,158.75398868538252,241.2767104938185,6.316775931845676,9.667563617015393,8.124468235544926,9.152623091577084,215.99789250340788,226.38443517512718,115.60271627996438,137.6403277344285,358.7339500241581,269.4638473969855,47.09666111640848,50.001820115516445,41.27224520771555,49.80023572940936,2.3744116360608527,11.438435945543235,1.1556276046523921,6.462170275437208,35.36402423205804,28.583152176643818,2.4758580700240462,10.736603860774414,33.52406528907508,44.978144754167445,30.605211577668133,39.96067164924861,55.6188838460029,100.87475468071243,68.76342896470238,79.20846158414976,40.093310651953146,9.728250380611325,13.694822636308976,10.7368193350311,12.096526835925868,8.402609513257694,23.243197138879342,7.015810831335172,104.88621450106778,92.47599143256933,208.18227513471288,59.63247153900509,58.37364365819146,49.57989482354434,53.80876288700688,62.080490333805635,52.728417969174785,4.30900668337099,5.2697525466240975,163.38896629647672,10.86877459594475,11.833191976064308,4.761300227075406,6.494679580562948,57.85627869704093,120.97307930294221,51.476731383611984,41.68561530765111,86.44738728819306,34.34302910562607,107.0334710528337,122.00954216719529,250.1567977206023,28.807332859155146,46.28207922076425,45.436892797640965,36.54773971370286,31.264661590741877,32.639225193670356,132.84269600768144,122.85748256484243,3.3808124226380505,6.172054493680805,3.66338147191054,11.373199387106911,8.237640724226459,11.373093553774261,9.616416043056487,10.761059155066539,24.713558997215955,27.162723292950805,410.79757611551,184.73304827404485,3.0837575991208808,8.48354051374266,458.5046148985865,263.3141581652084,218.38694317562943,151.5150624281651,142.2780647483321,91.04674248344786,19.560906486298453,24.78985759307719,80.85829691320541,4.851169109226884,6.24147890007714,4.258271282082645,6.227227609777798,7.044535767683808,64.5164878087563,7.044535767683808,546.2108037800994,332.5421172095615,250.86406917723914,6.752905053081076,12.175948066823434,7.827371371141688,7.27216665025384,10.762234385192457,7.780722270598951,109.5828997181914,134.59546513862705,50.9592239413863,63.63293596254467],\"type\":\"scatter\"},{\"mode\":\"markers\",\"name\":\"XGboost\",\"x\":[0.0,0.0,0.0,0.0,301.49,119.73,0.0,0.0,47.85,22.91,0.0,0.0,0.0,0.0,0.0,0.0,0.0,0.0,0.0,0.0,0.0,0.0,0.0,0.0,323.26,147.74,336.7375136665249,0.0,0.0,0.0,0.0,297.7292,138.5321,297.7292,138.5321,294.2469,128.9242,0.0,0.0,0.0,0.0,0.0,0.0,0.0,0.0,0.0,0.0,0.0,0.0,0.0,0.0,0.0,0.0,0.0,0.0,0.0,0.0,107.6763310738403,0.0,0.0,0.0,0.0,105.9341,112.8923,0.0,162.4611,112.04,107.6763310738403,105.9341,112.8923,0.0,105.9341,112.8923,0.0,0.0,0.0,164.1272130165312,0.0,0.0,0.0,0.0,109.7949,113.0745,0.0,109.7949,113.0745,0.0,117.9356,96.4135,164.1272130165312,109.7949,113.0745,0.0,109.7949,113.0745,0.0,0.0,0.0,0.0,0.0,0.0,0.0,0.0,0.0,0.0,0.0,0.0,0.0,475.83,192.04,0.0,0.0,559.22,5.58,245.86,199.24,20.1337,16.8123,0.0,0.0,188.4588014325963,0.0,0.0,0.0,0.0,201.7833,252.317,0.0,935.2154,689.2096,188.4588014325963,201.7833,252.317,0.0,201.7833,252.317,0.0,0.0,0.0,0.0,0.0],\"y\":[20.565570831298828,138.2762908935547,17.775222778320312,2.553514003753662,392.61175537109375,183.01055908203125,33.81025695800781,99.18334197998047,86.48104095458984,57.22694778442383,12.130022048950195,21.31621742248535,5.9324188232421875,23.244707107543945,11.112702369689941,21.137174606323242,24.032379150390625,78.91165161132812,5.642879009246826,1.462303876876831,32.87989044189453,42.20076370239258,19.682283401489258,15.573213577270508,395.65228271484375,226.39295959472656,206.92037963867188,-3.2228877544403076,10.638345718383789,5.328730583190918,-17.031360626220703,227.7710418701172,213.85601806640625,89.73491668701172,115.9498062133789,164.82583618164062,105.64576721191406,5.410810470581055,22.257780075073242,43.49699783325195,-8.898649215698242,21.2508544921875,1.093818187713623,7.106931686401367,2.628993034362793,56.99303436279297,19.835834503173828,5.801845073699951,10.811123847961426,11.642277717590332,54.63359832763672,17.31395149230957,12.70234203338623,17.91740608215332,168.27561950683594,32.438968658447266,83.20189666748047,20.50764274597168,4.6533403396606445,12.235499382019043,16.255992889404297,32.87884521484375,18.752748489379883,32.75434112548828,-5.079004764556885,81.92781829833984,60.17306900024414,115.73492431640625,85.45330810546875,80.52945709228516,48.5544548034668,27.650074005126953,18.63044548034668,-4.870011806488037,15.258559226989746,3.7789363861083984,177.77218627929688,-64.39676666259766,-61.726078033447266,7.336381435394287,15.714306831359863,86.5231704711914,131.1808624267578,27.800981521606445,49.19272232055664,63.05657196044922,0.45121240615844727,82.89525604248047,47.44938278198242,160.58517456054688,56.19165802001953,39.280696868896484,11.532422065734863,46.79613494873047,26.102373123168945,4.414244651794434,26.89911651611328,79.08534240722656,9.831628799438477,1.6102100610733032,5.137269020080566,2.2112762928009033,78.0308609008789,25.516759872436523,93.11520385742188,36.647735595703125,15.251360893249512,19.61260223388672,423.6459655761719,148.06312561035156,-3.038956880569458,-3.8395042419433594,295.8062438964844,199.40943908691406,398.2598876953125,232.6334686279297,81.8674545288086,34.06087112426758,5.021826267242432,25.346118927001953,84.42671966552734,3.442556858062744,4.1675848960876465,-4.897351264953613,1.7804049253463745,0.1640789955854416,50.93326187133789,0.1640789955854416,536.81005859375,229.50242614746094,175.16949462890625,27.336009979248047,10.921564102172852,11.905014991760254,12.310314178466797,36.33339309692383,-20.478090286254883,30.651824951171875,148.3319091796875,86.3713150024414,14.028556823730469],\"type\":\"scatter\"},{\"mode\":\"markers\",\"name\":\"GradientBoosting\",\"x\":[0.0,0.0,0.0,0.0,301.49,119.73,0.0,0.0,47.85,22.91,0.0,0.0,0.0,0.0,0.0,0.0,0.0,0.0,0.0,0.0,0.0,0.0,0.0,0.0,323.26,147.74,336.7375136665249,0.0,0.0,0.0,0.0,297.7292,138.5321,297.7292,138.5321,294.2469,128.9242,0.0,0.0,0.0,0.0,0.0,0.0,0.0,0.0,0.0,0.0,0.0,0.0,0.0,0.0,0.0,0.0,0.0,0.0,0.0,0.0,107.6763310738403,0.0,0.0,0.0,0.0,105.9341,112.8923,0.0,162.4611,112.04,107.6763310738403,105.9341,112.8923,0.0,105.9341,112.8923,0.0,0.0,0.0,164.1272130165312,0.0,0.0,0.0,0.0,109.7949,113.0745,0.0,109.7949,113.0745,0.0,117.9356,96.4135,164.1272130165312,109.7949,113.0745,0.0,109.7949,113.0745,0.0,0.0,0.0,0.0,0.0,0.0,0.0,0.0,0.0,0.0,0.0,0.0,0.0,475.83,192.04,0.0,0.0,559.22,5.58,245.86,199.24,20.1337,16.8123,0.0,0.0,188.4588014325963,0.0,0.0,0.0,0.0,201.7833,252.317,0.0,935.2154,689.2096,188.4588014325963,201.7833,252.317,0.0,201.7833,252.317,0.0,0.0,0.0,0.0,0.0],\"y\":[37.10914479926957,87.77434234688779,5.526585215656263,22.53570954872294,228.92622016103974,41.923698121000925,22.294061842068363,47.434406642893755,112.87722096728483,51.43061277686815,0.8014495924368984,17.41291290159052,11.015760641727967,19.54970313777269,2.9642916456292423,24.952481669146174,12.231336662479931,30.58071345142908,1.4264772088358324,24.253411145277592,51.06817919892927,33.39287351867108,22.138123806686398,21.19623440658134,225.15369092206484,130.02524886105869,164.64980550287936,20.018842581694667,17.11460453270155,21.966626032766825,60.26817518239372,163.55981575048702,151.42679509106551,82.44175416490587,98.37843763860384,199.7004631833142,138.094096549786,22.019222929480602,1.234984468374685,8.181713905898382,29.649170443345813,39.71503589088847,10.250172376214126,2.6129691652298574,13.462017674801244,48.8762169274337,19.2820744094381,7.531508148776064,3.1225637495329743,1.7243186464226459,38.67657194985596,3.9387627987576295,15.371072145998149,7.675172503344102,74.8611867749167,55.67934158277769,34.655403819113324,74.55891250493161,4.501076546362655,6.505088406824902,12.237324129803842,10.97686678019948,41.78731980006824,66.39825908932205,12.61021147004345,126.33386976554664,74.41339379740481,137.55161768126436,35.779812906471555,23.433868570927963,15.764337099189467,22.983625752326237,32.254410470730946,13.012041833079667,38.98119582337637,8.625227217872366,113.71243483766573,112.88900984938454,62.76462391042176,4.459741779749136,22.517656157679397,112.57654548684482,132.83213390563324,53.18461074182827,27.091692989324674,69.82267675644542,3.3795410113238042,187.29335819504755,141.04186817797842,137.9790558343773,41.53455597920079,53.343307087709924,12.82961960895096,33.81939145118623,42.48242499210226,10.20901297983064,12.476568964212257,47.645832931111954,0.903993897781954,0.015328442812922626,6.061895433555845,17.40323358347559,42.26227501988031,2.234285551037328,42.65790092087613,55.6985722825228,24.807547327164517,47.28223446428439,315.2990511712352,163.16627078737648,19.820339053037156,14.289811708327418,271.1795406781483,276.9012811011296,235.47182565872222,150.45077622985673,105.68708080752164,101.14021930468014,1.4577833884068028,0.6081264058748953,64.5482610055322,18.51663944753018,6.596904022277588,21.78422937100206,18.651018511275016,1.7592136945818793,40.847978442705276,1.7592136945818793,478.3980071372493,149.9195577389543,153.00622287468337,6.344955876322914,29.006973648370188,6.745172700390776,41.06299872197502,78.43860797477916,19.33568114133569,9.357587622452337,12.497716672258505,2.008214635695395,3.1670332605018356],\"type\":\"scatter\"},{\"line\":{\"color\":\"black\",\"dash\":\"dash\",\"width\":4},\"name\":\"Line\",\"x\":[0,935.2154],\"y\":[0,935.2154],\"type\":\"scatter\"}],                        {\"template\":{\"data\":{\"histogram2dcontour\":[{\"type\":\"histogram2dcontour\",\"colorbar\":{\"outlinewidth\":0,\"ticks\":\"\"},\"colorscale\":[[0.0,\"#0d0887\"],[0.1111111111111111,\"#46039f\"],[0.2222222222222222,\"#7201a8\"],[0.3333333333333333,\"#9c179e\"],[0.4444444444444444,\"#bd3786\"],[0.5555555555555556,\"#d8576b\"],[0.6666666666666666,\"#ed7953\"],[0.7777777777777778,\"#fb9f3a\"],[0.8888888888888888,\"#fdca26\"],[1.0,\"#f0f921\"]]}],\"choropleth\":[{\"type\":\"choropleth\",\"colorbar\":{\"outlinewidth\":0,\"ticks\":\"\"}}],\"histogram2d\":[{\"type\":\"histogram2d\",\"colorbar\":{\"outlinewidth\":0,\"ticks\":\"\"},\"colorscale\":[[0.0,\"#0d0887\"],[0.1111111111111111,\"#46039f\"],[0.2222222222222222,\"#7201a8\"],[0.3333333333333333,\"#9c179e\"],[0.4444444444444444,\"#bd3786\"],[0.5555555555555556,\"#d8576b\"],[0.6666666666666666,\"#ed7953\"],[0.7777777777777778,\"#fb9f3a\"],[0.8888888888888888,\"#fdca26\"],[1.0,\"#f0f921\"]]}],\"heatmap\":[{\"type\":\"heatmap\",\"colorbar\":{\"outlinewidth\":0,\"ticks\":\"\"},\"colorscale\":[[0.0,\"#0d0887\"],[0.1111111111111111,\"#46039f\"],[0.2222222222222222,\"#7201a8\"],[0.3333333333333333,\"#9c179e\"],[0.4444444444444444,\"#bd3786\"],[0.5555555555555556,\"#d8576b\"],[0.6666666666666666,\"#ed7953\"],[0.7777777777777778,\"#fb9f3a\"],[0.8888888888888888,\"#fdca26\"],[1.0,\"#f0f921\"]]}],\"heatmapgl\":[{\"type\":\"heatmapgl\",\"colorbar\":{\"outlinewidth\":0,\"ticks\":\"\"},\"colorscale\":[[0.0,\"#0d0887\"],[0.1111111111111111,\"#46039f\"],[0.2222222222222222,\"#7201a8\"],[0.3333333333333333,\"#9c179e\"],[0.4444444444444444,\"#bd3786\"],[0.5555555555555556,\"#d8576b\"],[0.6666666666666666,\"#ed7953\"],[0.7777777777777778,\"#fb9f3a\"],[0.8888888888888888,\"#fdca26\"],[1.0,\"#f0f921\"]]}],\"contourcarpet\":[{\"type\":\"contourcarpet\",\"colorbar\":{\"outlinewidth\":0,\"ticks\":\"\"}}],\"contour\":[{\"type\":\"contour\",\"colorbar\":{\"outlinewidth\":0,\"ticks\":\"\"},\"colorscale\":[[0.0,\"#0d0887\"],[0.1111111111111111,\"#46039f\"],[0.2222222222222222,\"#7201a8\"],[0.3333333333333333,\"#9c179e\"],[0.4444444444444444,\"#bd3786\"],[0.5555555555555556,\"#d8576b\"],[0.6666666666666666,\"#ed7953\"],[0.7777777777777778,\"#fb9f3a\"],[0.8888888888888888,\"#fdca26\"],[1.0,\"#f0f921\"]]}],\"surface\":[{\"type\":\"surface\",\"colorbar\":{\"outlinewidth\":0,\"ticks\":\"\"},\"colorscale\":[[0.0,\"#0d0887\"],[0.1111111111111111,\"#46039f\"],[0.2222222222222222,\"#7201a8\"],[0.3333333333333333,\"#9c179e\"],[0.4444444444444444,\"#bd3786\"],[0.5555555555555556,\"#d8576b\"],[0.6666666666666666,\"#ed7953\"],[0.7777777777777778,\"#fb9f3a\"],[0.8888888888888888,\"#fdca26\"],[1.0,\"#f0f921\"]]}],\"mesh3d\":[{\"type\":\"mesh3d\",\"colorbar\":{\"outlinewidth\":0,\"ticks\":\"\"}}],\"scatter\":[{\"fillpattern\":{\"fillmode\":\"overlay\",\"size\":10,\"solidity\":0.2},\"type\":\"scatter\"}],\"parcoords\":[{\"type\":\"parcoords\",\"line\":{\"colorbar\":{\"outlinewidth\":0,\"ticks\":\"\"}}}],\"scatterpolargl\":[{\"type\":\"scatterpolargl\",\"marker\":{\"colorbar\":{\"outlinewidth\":0,\"ticks\":\"\"}}}],\"bar\":[{\"error_x\":{\"color\":\"#2a3f5f\"},\"error_y\":{\"color\":\"#2a3f5f\"},\"marker\":{\"line\":{\"color\":\"#E5ECF6\",\"width\":0.5},\"pattern\":{\"fillmode\":\"overlay\",\"size\":10,\"solidity\":0.2}},\"type\":\"bar\"}],\"scattergeo\":[{\"type\":\"scattergeo\",\"marker\":{\"colorbar\":{\"outlinewidth\":0,\"ticks\":\"\"}}}],\"scatterpolar\":[{\"type\":\"scatterpolar\",\"marker\":{\"colorbar\":{\"outlinewidth\":0,\"ticks\":\"\"}}}],\"histogram\":[{\"marker\":{\"pattern\":{\"fillmode\":\"overlay\",\"size\":10,\"solidity\":0.2}},\"type\":\"histogram\"}],\"scattergl\":[{\"type\":\"scattergl\",\"marker\":{\"colorbar\":{\"outlinewidth\":0,\"ticks\":\"\"}}}],\"scatter3d\":[{\"type\":\"scatter3d\",\"line\":{\"colorbar\":{\"outlinewidth\":0,\"ticks\":\"\"}},\"marker\":{\"colorbar\":{\"outlinewidth\":0,\"ticks\":\"\"}}}],\"scattermapbox\":[{\"type\":\"scattermapbox\",\"marker\":{\"colorbar\":{\"outlinewidth\":0,\"ticks\":\"\"}}}],\"scatterternary\":[{\"type\":\"scatterternary\",\"marker\":{\"colorbar\":{\"outlinewidth\":0,\"ticks\":\"\"}}}],\"scattercarpet\":[{\"type\":\"scattercarpet\",\"marker\":{\"colorbar\":{\"outlinewidth\":0,\"ticks\":\"\"}}}],\"carpet\":[{\"aaxis\":{\"endlinecolor\":\"#2a3f5f\",\"gridcolor\":\"white\",\"linecolor\":\"white\",\"minorgridcolor\":\"white\",\"startlinecolor\":\"#2a3f5f\"},\"baxis\":{\"endlinecolor\":\"#2a3f5f\",\"gridcolor\":\"white\",\"linecolor\":\"white\",\"minorgridcolor\":\"white\",\"startlinecolor\":\"#2a3f5f\"},\"type\":\"carpet\"}],\"table\":[{\"cells\":{\"fill\":{\"color\":\"#EBF0F8\"},\"line\":{\"color\":\"white\"}},\"header\":{\"fill\":{\"color\":\"#C8D4E3\"},\"line\":{\"color\":\"white\"}},\"type\":\"table\"}],\"barpolar\":[{\"marker\":{\"line\":{\"color\":\"#E5ECF6\",\"width\":0.5},\"pattern\":{\"fillmode\":\"overlay\",\"size\":10,\"solidity\":0.2}},\"type\":\"barpolar\"}],\"pie\":[{\"automargin\":true,\"type\":\"pie\"}]},\"layout\":{\"autotypenumbers\":\"strict\",\"colorway\":[\"#636efa\",\"#EF553B\",\"#00cc96\",\"#ab63fa\",\"#FFA15A\",\"#19d3f3\",\"#FF6692\",\"#B6E880\",\"#FF97FF\",\"#FECB52\"],\"font\":{\"color\":\"#2a3f5f\"},\"hovermode\":\"closest\",\"hoverlabel\":{\"align\":\"left\"},\"paper_bgcolor\":\"white\",\"plot_bgcolor\":\"#E5ECF6\",\"polar\":{\"bgcolor\":\"#E5ECF6\",\"angularaxis\":{\"gridcolor\":\"white\",\"linecolor\":\"white\",\"ticks\":\"\"},\"radialaxis\":{\"gridcolor\":\"white\",\"linecolor\":\"white\",\"ticks\":\"\"}},\"ternary\":{\"bgcolor\":\"#E5ECF6\",\"aaxis\":{\"gridcolor\":\"white\",\"linecolor\":\"white\",\"ticks\":\"\"},\"baxis\":{\"gridcolor\":\"white\",\"linecolor\":\"white\",\"ticks\":\"\"},\"caxis\":{\"gridcolor\":\"white\",\"linecolor\":\"white\",\"ticks\":\"\"}},\"coloraxis\":{\"colorbar\":{\"outlinewidth\":0,\"ticks\":\"\"}},\"colorscale\":{\"sequential\":[[0.0,\"#0d0887\"],[0.1111111111111111,\"#46039f\"],[0.2222222222222222,\"#7201a8\"],[0.3333333333333333,\"#9c179e\"],[0.4444444444444444,\"#bd3786\"],[0.5555555555555556,\"#d8576b\"],[0.6666666666666666,\"#ed7953\"],[0.7777777777777778,\"#fb9f3a\"],[0.8888888888888888,\"#fdca26\"],[1.0,\"#f0f921\"]],\"sequentialminus\":[[0.0,\"#0d0887\"],[0.1111111111111111,\"#46039f\"],[0.2222222222222222,\"#7201a8\"],[0.3333333333333333,\"#9c179e\"],[0.4444444444444444,\"#bd3786\"],[0.5555555555555556,\"#d8576b\"],[0.6666666666666666,\"#ed7953\"],[0.7777777777777778,\"#fb9f3a\"],[0.8888888888888888,\"#fdca26\"],[1.0,\"#f0f921\"]],\"diverging\":[[0,\"#8e0152\"],[0.1,\"#c51b7d\"],[0.2,\"#de77ae\"],[0.3,\"#f1b6da\"],[0.4,\"#fde0ef\"],[0.5,\"#f7f7f7\"],[0.6,\"#e6f5d0\"],[0.7,\"#b8e186\"],[0.8,\"#7fbc41\"],[0.9,\"#4d9221\"],[1,\"#276419\"]]},\"xaxis\":{\"gridcolor\":\"white\",\"linecolor\":\"white\",\"ticks\":\"\",\"title\":{\"standoff\":15},\"zerolinecolor\":\"white\",\"automargin\":true,\"zerolinewidth\":2},\"yaxis\":{\"gridcolor\":\"white\",\"linecolor\":\"white\",\"ticks\":\"\",\"title\":{\"standoff\":15},\"zerolinecolor\":\"white\",\"automargin\":true,\"zerolinewidth\":2},\"scene\":{\"xaxis\":{\"backgroundcolor\":\"#E5ECF6\",\"gridcolor\":\"white\",\"linecolor\":\"white\",\"showbackground\":true,\"ticks\":\"\",\"zerolinecolor\":\"white\",\"gridwidth\":2},\"yaxis\":{\"backgroundcolor\":\"#E5ECF6\",\"gridcolor\":\"white\",\"linecolor\":\"white\",\"showbackground\":true,\"ticks\":\"\",\"zerolinecolor\":\"white\",\"gridwidth\":2},\"zaxis\":{\"backgroundcolor\":\"#E5ECF6\",\"gridcolor\":\"white\",\"linecolor\":\"white\",\"showbackground\":true,\"ticks\":\"\",\"zerolinecolor\":\"white\",\"gridwidth\":2}},\"shapedefaults\":{\"line\":{\"color\":\"#2a3f5f\"}},\"annotationdefaults\":{\"arrowcolor\":\"#2a3f5f\",\"arrowhead\":0,\"arrowwidth\":1},\"geo\":{\"bgcolor\":\"white\",\"landcolor\":\"#E5ECF6\",\"subunitcolor\":\"white\",\"showland\":true,\"showlakes\":true,\"lakecolor\":\"white\"},\"title\":{\"x\":0.05},\"mapbox\":{\"style\":\"light\"}}},\"updatemenus\":[{\"buttons\":[{\"args\":[{\"visible\":[true,false,false,false,true]},{\"title\":\"RandomForest<br>Calcium_Eluate\",\"annotations\":[{\"text\":\"$Train Cross Validation R^2=0.65$\",\"xref\":\"paper\",\"yref\":\"paper\",\"x\":0.02,\"y\":0.89,\"showarrow\":false},{\"text\":\"$Test R^2=0.49$\",\"xref\":\"paper\",\"yref\":\"paper\",\"x\":0.02,\"y\":0.97,\"showarrow\":false},{\"text\":\"$Train R^2=0.95$\",\"xref\":\"paper\",\"yref\":\"paper\",\"x\":0.02,\"y\":0.81,\"showarrow\":false}]}],\"label\":\"RandomForest\",\"method\":\"update\"},{\"args\":[{\"visible\":[false,true,false,false,true]},{\"title\":\"ExtraTrees<br>Calcium_Eluate\",\"annotations\":[{\"text\":\"$Train Cross Validation R^2=0.63$\",\"xref\":\"paper\",\"yref\":\"paper\",\"x\":0.02,\"y\":0.89,\"showarrow\":false},{\"text\":\"$Test R^2=0.59$\",\"xref\":\"paper\",\"yref\":\"paper\",\"x\":0.02,\"y\":0.97,\"showarrow\":false},{\"text\":\"$Train R^2=1.0$\",\"xref\":\"paper\",\"yref\":\"paper\",\"x\":0.02,\"y\":0.81,\"showarrow\":false}]}],\"label\":\"ExtraTrees\",\"method\":\"update\"},{\"args\":[{\"visible\":[false,false,false,true,true]},{\"title\":\"GradientBoosting<br>Calcium_Eluate\",\"annotations\":[{\"text\":\"$Train Cross Validation R^2=0.78$\",\"xref\":\"paper\",\"yref\":\"paper\",\"x\":0.02,\"y\":0.89,\"showarrow\":false},{\"text\":\"$Test R^2=0.53$\",\"xref\":\"paper\",\"yref\":\"paper\",\"x\":0.02,\"y\":0.97,\"showarrow\":false},{\"text\":\"$Train R^2=0.99$\",\"xref\":\"paper\",\"yref\":\"paper\",\"x\":0.02,\"y\":0.81,\"showarrow\":false}]}],\"label\":\"GradientBoosting\",\"method\":\"update\"},{\"args\":[{\"visible\":[false,false,true,false,true]},{\"title\":\"XGboost<br>Calcium_Eluate\",\"annotations\":[{\"text\":\"$Train Cross Validation R^2=0.74$\",\"xref\":\"paper\",\"yref\":\"paper\",\"x\":0.02,\"y\":0.89,\"showarrow\":false},{\"text\":\"$Test R^2=0.57$\",\"xref\":\"paper\",\"yref\":\"paper\",\"x\":0.02,\"y\":0.97,\"showarrow\":false},{\"text\":\"$Train R^2=1.0$\",\"xref\":\"paper\",\"yref\":\"paper\",\"x\":0.02,\"y\":0.81,\"showarrow\":false}]}],\"label\":\"XGboost\",\"method\":\"update\"},{\"args\":[{\"visible\":[true,true,true,true,true,true]},{\"title\":\"All algorithms<br>Calcium_Eluate\",\"annotations\":[{\"text\":\" \",\"xref\":\"paper\",\"yref\":\"paper\",\"x\":0.02,\"y\":0.89,\"showarrow\":false}]}],\"label\":\"All\",\"method\":\"update\"}],\"direction\":\"down\",\"pad\":{\"r\":10,\"t\":10},\"showactive\":true,\"x\":0,\"xanchor\":\"left\",\"y\":1.13,\"yanchor\":\"top\"}],\"title\":{\"y\":0.9,\"x\":0.5,\"xanchor\":\"center\",\"yanchor\":\"top\"},\"xaxis\":{\"title\":{\"text\":\"Measured\"}},\"yaxis\":{\"title\":{\"text\":\"Prediction\"}}},                        {\"responsive\": true}                    ).then(function(){\n",
       "                            \n",
       "var gd = document.getElementById('74237677-8c12-4431-8300-f697c4047741');\n",
       "var x = new MutationObserver(function (mutations, observer) {{\n",
       "        var display = window.getComputedStyle(gd).display;\n",
       "        if (!display || display === 'none') {{\n",
       "            console.log([gd, 'removed!']);\n",
       "            Plotly.purge(gd);\n",
       "            observer.disconnect();\n",
       "        }}\n",
       "}});\n",
       "\n",
       "// Listen for the removal of the full notebook cells\n",
       "var notebookContainer = gd.closest('#notebook-container');\n",
       "if (notebookContainer) {{\n",
       "    x.observe(notebookContainer, {childList: true});\n",
       "}}\n",
       "\n",
       "// Listen for the clearing of the current output cell\n",
       "var outputEl = gd.closest('.output');\n",
       "if (outputEl) {{\n",
       "    x.observe(outputEl, {childList: true});\n",
       "}}\n",
       "\n",
       "                        })                };                });            </script>        </div>"
      ]
     },
     "metadata": {},
     "output_type": "display_data"
    }
   ],
   "source": [
    "import plotly.graph_objects as pxx\n",
    "try:\n",
    "    compname=y_test.columns[0].replace('_y', '')\n",
    "except:\n",
    "    pass\n",
    "for i in range (len(regressors)):\n",
    "    if max(y_test.values)[0]>max(eval('predictionse_'+regressors[i])):\n",
    "      yy=y_test\n",
    "    else:  \n",
    "      yy=eval('predictionse_'+regressors[i])\n",
    "    fig = go.Figure()\n",
    "    try:\n",
    "        maxi=max(yy.values)\n",
    "    except:\n",
    "        maxi=max(yy)\n",
    "    fig=pxx.Figure(data=[go.Scatter(\n",
    "        name=regressors[0],\n",
    "        x=y_test[y_test.columns[0]].values,\n",
    "        y=(pickle.load(open(y_test.columns[0]+regressors[0]+'.sav', 'rb')).predict(X_test)) , mode='markers'\n",
    "    ),\n",
    "        go.Scatter(\n",
    "        name=regressors[1],\n",
    "        x=y_test[y_test.columns[0]].values,\n",
    "        y=(pickle.load(open(y_test.columns[0]+regressors[1]+'.sav', 'rb')).predict(X_test)) , mode='markers'\n",
    "    ), go.Scatter(\n",
    "        name=regressors[7],\n",
    "        x=y_test[y_test.columns[0]].values,\n",
    "        y=(pickle.load(open(y_test.columns[0]+regressors[7]+'.sav', 'rb')).predict(X_test)) , mode='markers'\n",
    "    ), go.Scatter(\n",
    "        name=regressors[5],\n",
    "        x=y_test[y_test.columns[0]].values,\n",
    "        y=abs(pickle.load(open(y_test.columns[0]+regressors[5]+'.sav', 'rb')).predict(X_test)) , mode='markers'\n",
    "    ),\n",
    "        go.Scatter(x=[0, float(maxi)], y=[0, float(maxi)], name='Line',\n",
    "                          line = dict(color='black', width=4, dash='dash'))\n",
    "    ])\n",
    "\n",
    "\n",
    "annotations_all = [dict(text=\" \",\n",
    "                  xref=\"paper\", yref=\"paper\",\n",
    "                  x=0.02, y=0.89, showarrow=False)]   \n",
    "# Add dropdown\n",
    "fig.update_layout(\n",
    "    updatemenus=[\n",
    "        dict(\n",
    "            \n",
    "            buttons=list([\n",
    "                dict(label=regressors[0],\n",
    "                     method=\"update\",\n",
    "                     args=[{\"visible\": [True, False, False, False,True]},\n",
    "                           {\"title\": regressors[0]+'<br>'+compname,\n",
    "                            \"annotations\": annotations_RandomForest\n",
    "                            }]),\n",
    "                dict(label=regressors[1],\n",
    "                     method=\"update\",\n",
    "                     args=[{\"visible\": [False, True, False, False,True]},\n",
    "                           {\"title\": regressors[1]+'<br>'+compname,\n",
    "                            \"annotations\": annotations_ExtraTrees\n",
    "                            }]),dict(label=regressors[5],\n",
    "                     method=\"update\",\n",
    "                     args=[{\"visible\": [False, False, False, True,True]},\n",
    "                           {\"title\": regressors[5]+'<br>'+compname,\n",
    "                            \"annotations\": annotations_GradientBoosting\n",
    "                            }]),dict(label=regressors[7],\n",
    "                     method=\"update\",\n",
    "                     args=[{\"visible\": [False, False, True, False,True]},\n",
    "                           {\"title\": regressors[7]+'<br>'+compname,\n",
    "                            \"annotations\": annotations_XGboost\n",
    "                            }]),dict(label='All',\n",
    "                     method=\"update\",\n",
    "                     args=[{\"visible\": [True,True, True,True,True,True]},\n",
    "                           {\"title\": 'All algorithms'+'<br>'+compname,\n",
    "                            \"annotations\": annotations_all\n",
    "                            }])\n",
    "            ]),\n",
    "            direction=\"down\",\n",
    "            pad={\"r\": 10, \"t\": 10},\n",
    "            showactive=True,\n",
    "            x=0,\n",
    "            xanchor=\"left\",\n",
    "            y=1.13,\n",
    "            yanchor=\"top\",\n",
    "        )\n",
    "    ])\n",
    "\n",
    "fig.update_layout(\n",
    "    title={\n",
    "        'y':0.9,\n",
    "        'x':0.5,\n",
    "        'xanchor': 'center',\n",
    "        'yanchor': 'top'})\n",
    "\n",
    "fig.update_xaxes(title_text='Measured')\n",
    "fig.update_yaxes(title_text='Prediction')\n",
    "\n",
    "fig.show()\n"
   ]
  },
  {
   "cell_type": "markdown",
   "metadata": {
    "id": "padTpkAjCU6-"
   },
   "source": [
    "# Visualization by error bar\n"
   ]
  },
  {
   "cell_type": "code",
   "execution_count": null,
   "metadata": {
    "id": "efnBl0u-CZS3"
   },
   "outputs": [],
   "source": [
    "# # Create figure\n",
    "# import plotly.express as px\n",
    "# r2_traine=mode.score(X_train, y_train)\n",
    "# r2_teste=mode.score(X_test, y_test)\n",
    "# print(r2_teste)\n",
    "# predictionse=mode.predict(X_test) \n",
    "\n",
    "# predictionse=pd.DataFrame(predictionse)\n",
    "# frames = [y_test, predictionse]\n",
    "# result = pd.concat(frames, axis=1)\n",
    "# if max(y_test.values)[0]>max(predictionse):\n",
    "#   yy=y_test\n",
    "# else:  \n",
    "#   yy=predictionse\n",
    "# fig = go.Figure()\n",
    "# maxi=max(yy.values)\n",
    "# result.rename(columns={result.columns[0]: 'Measured', 0: 'Prediction'}, inplace=True)\n",
    "\n",
    "\n",
    "# #fig.add_trace(go.Scatter(x=[0, float(maxi)], y=[0, float(maxi)], name='',\n",
    "#                         # line = dict(color='black', width=4, dash='dash')))\n",
    "# # Add traces, one for each slider step\n",
    "# fig=px.scatter(result, x='Measured', y='Prediction',range_x=[-(float(maxi)/10), float(maxi)+(float(maxi)/10)], range_y=[-(float(maxi)/10),float(maxi)+(float(maxi)/10) ])\n",
    "# x_in = y_test.values\n",
    "# y_out = y_test.values\n",
    "# yhat_out = predictionse.values\n",
    "\n",
    "# interval = 1 * stdev\n",
    "# for step in np.arange(0, len(X_test), 1):\n",
    "#     fig.add_trace(\n",
    "#         go.Scatter(\n",
    "#         x=x_in[step],\n",
    "#         y=yhat_out[step],\n",
    "#         name='Error bar',\n",
    "#         error_y=dict(\n",
    "#             type='data', # value of error bar given in data coordinates\n",
    "#             array=np.array(interval),\n",
    "#             visible=True)\n",
    "   \n",
    "#     ))\n",
    "\n",
    "# # Create and add slider\n",
    "# steps = []\n",
    "# for i in range(len(X_test)):\n",
    "#     step = dict(\n",
    "#         method=\"update\",\n",
    "#         args=[{\"visible\": [False] * len(X_test)}\n",
    "#               ],  # layout attribute\n",
    "#     )\n",
    "#     step[\"args\"][0][\"visible\"][i] = True  # Toggle i'th trace to \"visible\"\n",
    "#     steps.append(step)\n",
    "#     fig.add_trace(go.Scatter(x=result['Measured'], y=result['Prediction'], name='Data points', mode='markers'))\n",
    "#     fig.add_trace(go.Scatter(x=[0, float(maxi)], y=[0, float(maxi)], name='Line',\n",
    "#                       line = dict(color='black', width=4, dash='dash')))\n",
    "#     fig.update_layout(\n",
    "#     title={\n",
    "#         'text': y_test.columns[0],\n",
    "#         'y':0.95,\n",
    "#         'x':0.5,\n",
    "#         'xanchor': 'center',\n",
    "#         'yanchor': 'top'})\n",
    "\n",
    "# sliders = [dict(\n",
    "#     active=10,\n",
    "#     currentvalue={\"prefix\": \"Frequency: \"},\n",
    "#     pad={\"t\": 50},\n",
    "#     steps=steps\n",
    "# )]\n",
    "\n",
    "# fig.update_layout(\n",
    "#     sliders=sliders\n",
    "# )\n",
    "\n",
    "\n",
    "# fig.show()\n",
    "\n"
   ]
  }
 ],
 "metadata": {
  "accelerator": "GPU",
  "colab": {
   "collapsed_sections": [
    "7cozeIoEuySB",
    "PQr8IS9o3s4c",
    "ycFzCIXrmg4x",
    "T3YywEkpmxn1",
    "0sNz74NLs7d9",
    "bYV1nHROajLd",
    "BPMEEsSJu6UC"
   ],
   "name": "longterm_prediction.ipynb",
   "provenance": []
  },
  "hide_input": false,
  "kernelspec": {
   "display_name": "Python 3 (ipykernel)",
   "language": "python",
   "name": "python3"
  },
  "language_info": {
   "codemirror_mode": {
    "name": "ipython",
    "version": 3
   },
   "file_extension": ".py",
   "mimetype": "text/x-python",
   "name": "python",
   "nbconvert_exporter": "python",
   "pygments_lexer": "ipython3",
   "version": "3.9.7"
  },
  "latex_envs": {
   "LaTeX_envs_menu_present": true,
   "autoclose": false,
   "autocomplete": true,
   "bibliofile": "biblio.bib",
   "cite_by": "apalike",
   "current_citInitial": 1,
   "eqLabelWithNumbers": true,
   "eqNumInitial": 1,
   "hotkeys": {
    "equation": "Ctrl-E",
    "itemize": "Ctrl-I"
   },
   "labels_anchors": false,
   "latex_user_defs": false,
   "report_style_numbering": false,
   "user_envs_cfg": false
  },
  "toc": {
   "base_numbering": 1,
   "nav_menu": {},
   "number_sections": true,
   "sideBar": true,
   "skip_h1_title": false,
   "title_cell": "Table of Contents",
   "title_sidebar": "Contents",
   "toc_cell": false,
   "toc_position": {
    "height": "calc(100% - 180px)",
    "left": "10px",
    "top": "150px",
    "width": "303.796875px"
   },
   "toc_section_display": true,
   "toc_window_display": true
  },
  "toc-showcode": false,
  "varInspector": {
   "cols": {
    "lenName": 16,
    "lenType": 16,
    "lenVar": 40
   },
   "kernels_config": {
    "python": {
     "delete_cmd_postfix": "",
     "delete_cmd_prefix": "del ",
     "library": "var_list.py",
     "varRefreshCmd": "print(var_dic_list())"
    },
    "r": {
     "delete_cmd_postfix": ") ",
     "delete_cmd_prefix": "rm(",
     "library": "var_list.r",
     "varRefreshCmd": "cat(var_dic_list()) "
    }
   },
   "position": {
    "height": "678px",
    "left": "416px",
    "right": "20px",
    "top": "95px",
    "width": "800px"
   },
   "types_to_exclude": [
    "module",
    "function",
    "builtin_function_or_method",
    "instance",
    "_Feature"
   ],
   "window_display": false
  }
 },
 "nbformat": 4,
 "nbformat_minor": 4
}
